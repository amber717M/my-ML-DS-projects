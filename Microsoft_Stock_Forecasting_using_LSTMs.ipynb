{
  "nbformat": 4,
  "nbformat_minor": 0,
  "metadata": {
    "colab": {
      "provenance": [],
      "authorship_tag": "ABX9TyNcnwTReEnCgFIkH5Rn2Tyv",
      "include_colab_link": true
    },
    "kernelspec": {
      "name": "python3",
      "display_name": "Python 3"
    },
    "language_info": {
      "name": "python"
    }
  },
  "cells": [
    {
      "cell_type": "markdown",
      "metadata": {
        "id": "view-in-github",
        "colab_type": "text"
      },
      "source": [
        "<a href=\"https://colab.research.google.com/github/amber717M/my-ML-DS-projects/blob/main/Microsoft_Stock_Forecasting_using_LSTMs.ipynb\" target=\"_parent\"><img src=\"https://colab.research.google.com/assets/colab-badge.svg\" alt=\"Open In Colab\"/></a>"
      ]
    },
    {
      "cell_type": "code",
      "execution_count": 1,
      "metadata": {
        "id": "8pQoHs4HJwhI"
      },
      "outputs": [],
      "source": [
        "import pandas as pd\n",
        "df = pd.read_csv('/content/MSFT.csv')"
      ]
    },
    {
      "cell_type": "code",
      "source": [
        "df"
      ],
      "metadata": {
        "colab": {
          "base_uri": "https://localhost:8080/",
          "height": 424
        },
        "id": "N-OE01e-FDWI",
        "outputId": "877e3dbf-f498-48da-aa44-a1d2b4bcf1a6"
      },
      "execution_count": 2,
      "outputs": [
        {
          "output_type": "execute_result",
          "data": {
            "text/plain": [
              "            Date        Open        High         Low       Close   Adj Close  \\\n",
              "0     1986-03-13    0.088542    0.101563    0.088542    0.097222    0.060809   \n",
              "1     1986-03-14    0.097222    0.102431    0.097222    0.100694    0.062980   \n",
              "2     1986-03-17    0.100694    0.103299    0.100694    0.102431    0.064067   \n",
              "3     1986-03-18    0.102431    0.103299    0.098958    0.099826    0.062437   \n",
              "4     1986-03-19    0.099826    0.100694    0.097222    0.098090    0.061351   \n",
              "...          ...         ...         ...         ...         ...         ...   \n",
              "9255  2022-11-30  240.570007  255.330002  239.860001  255.139999  255.139999   \n",
              "9256  2022-12-01  253.869995  256.119995  250.919998  254.690002  254.690002   \n",
              "9257  2022-12-02  249.820007  256.059998  249.690002  255.020004  255.020004   \n",
              "9258  2022-12-05  252.009995  253.820007  248.059998  250.199997  250.199997   \n",
              "9259  2022-12-06  250.820007  251.860001  243.779999  245.119995  245.119995   \n",
              "\n",
              "          Volume  \n",
              "0     1031788800  \n",
              "1      308160000  \n",
              "2      133171200  \n",
              "3       67766400  \n",
              "4       47894400  \n",
              "...          ...  \n",
              "9255    47553800  \n",
              "9256    26041500  \n",
              "9257    21522800  \n",
              "9258    23435300  \n",
              "9259    22451300  \n",
              "\n",
              "[9260 rows x 7 columns]"
            ],
            "text/html": [
              "\n",
              "  <div id=\"df-c61543b0-2755-4078-a2a4-6f6b17619389\">\n",
              "    <div class=\"colab-df-container\">\n",
              "      <div>\n",
              "<style scoped>\n",
              "    .dataframe tbody tr th:only-of-type {\n",
              "        vertical-align: middle;\n",
              "    }\n",
              "\n",
              "    .dataframe tbody tr th {\n",
              "        vertical-align: top;\n",
              "    }\n",
              "\n",
              "    .dataframe thead th {\n",
              "        text-align: right;\n",
              "    }\n",
              "</style>\n",
              "<table border=\"1\" class=\"dataframe\">\n",
              "  <thead>\n",
              "    <tr style=\"text-align: right;\">\n",
              "      <th></th>\n",
              "      <th>Date</th>\n",
              "      <th>Open</th>\n",
              "      <th>High</th>\n",
              "      <th>Low</th>\n",
              "      <th>Close</th>\n",
              "      <th>Adj Close</th>\n",
              "      <th>Volume</th>\n",
              "    </tr>\n",
              "  </thead>\n",
              "  <tbody>\n",
              "    <tr>\n",
              "      <th>0</th>\n",
              "      <td>1986-03-13</td>\n",
              "      <td>0.088542</td>\n",
              "      <td>0.101563</td>\n",
              "      <td>0.088542</td>\n",
              "      <td>0.097222</td>\n",
              "      <td>0.060809</td>\n",
              "      <td>1031788800</td>\n",
              "    </tr>\n",
              "    <tr>\n",
              "      <th>1</th>\n",
              "      <td>1986-03-14</td>\n",
              "      <td>0.097222</td>\n",
              "      <td>0.102431</td>\n",
              "      <td>0.097222</td>\n",
              "      <td>0.100694</td>\n",
              "      <td>0.062980</td>\n",
              "      <td>308160000</td>\n",
              "    </tr>\n",
              "    <tr>\n",
              "      <th>2</th>\n",
              "      <td>1986-03-17</td>\n",
              "      <td>0.100694</td>\n",
              "      <td>0.103299</td>\n",
              "      <td>0.100694</td>\n",
              "      <td>0.102431</td>\n",
              "      <td>0.064067</td>\n",
              "      <td>133171200</td>\n",
              "    </tr>\n",
              "    <tr>\n",
              "      <th>3</th>\n",
              "      <td>1986-03-18</td>\n",
              "      <td>0.102431</td>\n",
              "      <td>0.103299</td>\n",
              "      <td>0.098958</td>\n",
              "      <td>0.099826</td>\n",
              "      <td>0.062437</td>\n",
              "      <td>67766400</td>\n",
              "    </tr>\n",
              "    <tr>\n",
              "      <th>4</th>\n",
              "      <td>1986-03-19</td>\n",
              "      <td>0.099826</td>\n",
              "      <td>0.100694</td>\n",
              "      <td>0.097222</td>\n",
              "      <td>0.098090</td>\n",
              "      <td>0.061351</td>\n",
              "      <td>47894400</td>\n",
              "    </tr>\n",
              "    <tr>\n",
              "      <th>...</th>\n",
              "      <td>...</td>\n",
              "      <td>...</td>\n",
              "      <td>...</td>\n",
              "      <td>...</td>\n",
              "      <td>...</td>\n",
              "      <td>...</td>\n",
              "      <td>...</td>\n",
              "    </tr>\n",
              "    <tr>\n",
              "      <th>9255</th>\n",
              "      <td>2022-11-30</td>\n",
              "      <td>240.570007</td>\n",
              "      <td>255.330002</td>\n",
              "      <td>239.860001</td>\n",
              "      <td>255.139999</td>\n",
              "      <td>255.139999</td>\n",
              "      <td>47553800</td>\n",
              "    </tr>\n",
              "    <tr>\n",
              "      <th>9256</th>\n",
              "      <td>2022-12-01</td>\n",
              "      <td>253.869995</td>\n",
              "      <td>256.119995</td>\n",
              "      <td>250.919998</td>\n",
              "      <td>254.690002</td>\n",
              "      <td>254.690002</td>\n",
              "      <td>26041500</td>\n",
              "    </tr>\n",
              "    <tr>\n",
              "      <th>9257</th>\n",
              "      <td>2022-12-02</td>\n",
              "      <td>249.820007</td>\n",
              "      <td>256.059998</td>\n",
              "      <td>249.690002</td>\n",
              "      <td>255.020004</td>\n",
              "      <td>255.020004</td>\n",
              "      <td>21522800</td>\n",
              "    </tr>\n",
              "    <tr>\n",
              "      <th>9258</th>\n",
              "      <td>2022-12-05</td>\n",
              "      <td>252.009995</td>\n",
              "      <td>253.820007</td>\n",
              "      <td>248.059998</td>\n",
              "      <td>250.199997</td>\n",
              "      <td>250.199997</td>\n",
              "      <td>23435300</td>\n",
              "    </tr>\n",
              "    <tr>\n",
              "      <th>9259</th>\n",
              "      <td>2022-12-06</td>\n",
              "      <td>250.820007</td>\n",
              "      <td>251.860001</td>\n",
              "      <td>243.779999</td>\n",
              "      <td>245.119995</td>\n",
              "      <td>245.119995</td>\n",
              "      <td>22451300</td>\n",
              "    </tr>\n",
              "  </tbody>\n",
              "</table>\n",
              "<p>9260 rows × 7 columns</p>\n",
              "</div>\n",
              "      <button class=\"colab-df-convert\" onclick=\"convertToInteractive('df-c61543b0-2755-4078-a2a4-6f6b17619389')\"\n",
              "              title=\"Convert this dataframe to an interactive table.\"\n",
              "              style=\"display:none;\">\n",
              "        \n",
              "  <svg xmlns=\"http://www.w3.org/2000/svg\" height=\"24px\"viewBox=\"0 0 24 24\"\n",
              "       width=\"24px\">\n",
              "    <path d=\"M0 0h24v24H0V0z\" fill=\"none\"/>\n",
              "    <path d=\"M18.56 5.44l.94 2.06.94-2.06 2.06-.94-2.06-.94-.94-2.06-.94 2.06-2.06.94zm-11 1L8.5 8.5l.94-2.06 2.06-.94-2.06-.94L8.5 2.5l-.94 2.06-2.06.94zm10 10l.94 2.06.94-2.06 2.06-.94-2.06-.94-.94-2.06-.94 2.06-2.06.94z\"/><path d=\"M17.41 7.96l-1.37-1.37c-.4-.4-.92-.59-1.43-.59-.52 0-1.04.2-1.43.59L10.3 9.45l-7.72 7.72c-.78.78-.78 2.05 0 2.83L4 21.41c.39.39.9.59 1.41.59.51 0 1.02-.2 1.41-.59l7.78-7.78 2.81-2.81c.8-.78.8-2.07 0-2.86zM5.41 20L4 18.59l7.72-7.72 1.47 1.35L5.41 20z\"/>\n",
              "  </svg>\n",
              "      </button>\n",
              "      \n",
              "  <style>\n",
              "    .colab-df-container {\n",
              "      display:flex;\n",
              "      flex-wrap:wrap;\n",
              "      gap: 12px;\n",
              "    }\n",
              "\n",
              "    .colab-df-convert {\n",
              "      background-color: #E8F0FE;\n",
              "      border: none;\n",
              "      border-radius: 50%;\n",
              "      cursor: pointer;\n",
              "      display: none;\n",
              "      fill: #1967D2;\n",
              "      height: 32px;\n",
              "      padding: 0 0 0 0;\n",
              "      width: 32px;\n",
              "    }\n",
              "\n",
              "    .colab-df-convert:hover {\n",
              "      background-color: #E2EBFA;\n",
              "      box-shadow: 0px 1px 2px rgba(60, 64, 67, 0.3), 0px 1px 3px 1px rgba(60, 64, 67, 0.15);\n",
              "      fill: #174EA6;\n",
              "    }\n",
              "\n",
              "    [theme=dark] .colab-df-convert {\n",
              "      background-color: #3B4455;\n",
              "      fill: #D2E3FC;\n",
              "    }\n",
              "\n",
              "    [theme=dark] .colab-df-convert:hover {\n",
              "      background-color: #434B5C;\n",
              "      box-shadow: 0px 1px 3px 1px rgba(0, 0, 0, 0.15);\n",
              "      filter: drop-shadow(0px 1px 2px rgba(0, 0, 0, 0.3));\n",
              "      fill: #FFFFFF;\n",
              "    }\n",
              "  </style>\n",
              "\n",
              "      <script>\n",
              "        const buttonEl =\n",
              "          document.querySelector('#df-c61543b0-2755-4078-a2a4-6f6b17619389 button.colab-df-convert');\n",
              "        buttonEl.style.display =\n",
              "          google.colab.kernel.accessAllowed ? 'block' : 'none';\n",
              "\n",
              "        async function convertToInteractive(key) {\n",
              "          const element = document.querySelector('#df-c61543b0-2755-4078-a2a4-6f6b17619389');\n",
              "          const dataTable =\n",
              "            await google.colab.kernel.invokeFunction('convertToInteractive',\n",
              "                                                     [key], {});\n",
              "          if (!dataTable) return;\n",
              "\n",
              "          const docLinkHtml = 'Like what you see? Visit the ' +\n",
              "            '<a target=\"_blank\" href=https://colab.research.google.com/notebooks/data_table.ipynb>data table notebook</a>'\n",
              "            + ' to learn more about interactive tables.';\n",
              "          element.innerHTML = '';\n",
              "          dataTable['output_type'] = 'display_data';\n",
              "          await google.colab.output.renderOutput(dataTable, element);\n",
              "          const docLink = document.createElement('div');\n",
              "          docLink.innerHTML = docLinkHtml;\n",
              "          element.appendChild(docLink);\n",
              "        }\n",
              "      </script>\n",
              "    </div>\n",
              "  </div>\n",
              "  "
            ]
          },
          "metadata": {},
          "execution_count": 2
        }
      ]
    },
    {
      "cell_type": "code",
      "source": [
        "df= df[['Date','Close']]\n",
        "df"
      ],
      "metadata": {
        "colab": {
          "base_uri": "https://localhost:8080/",
          "height": 424
        },
        "id": "Dt1cLdDjFOh_",
        "outputId": "a3591ef4-8ba4-4f18-e68f-4bdd2f46c0cc"
      },
      "execution_count": 3,
      "outputs": [
        {
          "output_type": "execute_result",
          "data": {
            "text/plain": [
              "            Date       Close\n",
              "0     1986-03-13    0.097222\n",
              "1     1986-03-14    0.100694\n",
              "2     1986-03-17    0.102431\n",
              "3     1986-03-18    0.099826\n",
              "4     1986-03-19    0.098090\n",
              "...          ...         ...\n",
              "9255  2022-11-30  255.139999\n",
              "9256  2022-12-01  254.690002\n",
              "9257  2022-12-02  255.020004\n",
              "9258  2022-12-05  250.199997\n",
              "9259  2022-12-06  245.119995\n",
              "\n",
              "[9260 rows x 2 columns]"
            ],
            "text/html": [
              "\n",
              "  <div id=\"df-cf0b5d4c-9b9a-41e9-b646-ae6edd445321\">\n",
              "    <div class=\"colab-df-container\">\n",
              "      <div>\n",
              "<style scoped>\n",
              "    .dataframe tbody tr th:only-of-type {\n",
              "        vertical-align: middle;\n",
              "    }\n",
              "\n",
              "    .dataframe tbody tr th {\n",
              "        vertical-align: top;\n",
              "    }\n",
              "\n",
              "    .dataframe thead th {\n",
              "        text-align: right;\n",
              "    }\n",
              "</style>\n",
              "<table border=\"1\" class=\"dataframe\">\n",
              "  <thead>\n",
              "    <tr style=\"text-align: right;\">\n",
              "      <th></th>\n",
              "      <th>Date</th>\n",
              "      <th>Close</th>\n",
              "    </tr>\n",
              "  </thead>\n",
              "  <tbody>\n",
              "    <tr>\n",
              "      <th>0</th>\n",
              "      <td>1986-03-13</td>\n",
              "      <td>0.097222</td>\n",
              "    </tr>\n",
              "    <tr>\n",
              "      <th>1</th>\n",
              "      <td>1986-03-14</td>\n",
              "      <td>0.100694</td>\n",
              "    </tr>\n",
              "    <tr>\n",
              "      <th>2</th>\n",
              "      <td>1986-03-17</td>\n",
              "      <td>0.102431</td>\n",
              "    </tr>\n",
              "    <tr>\n",
              "      <th>3</th>\n",
              "      <td>1986-03-18</td>\n",
              "      <td>0.099826</td>\n",
              "    </tr>\n",
              "    <tr>\n",
              "      <th>4</th>\n",
              "      <td>1986-03-19</td>\n",
              "      <td>0.098090</td>\n",
              "    </tr>\n",
              "    <tr>\n",
              "      <th>...</th>\n",
              "      <td>...</td>\n",
              "      <td>...</td>\n",
              "    </tr>\n",
              "    <tr>\n",
              "      <th>9255</th>\n",
              "      <td>2022-11-30</td>\n",
              "      <td>255.139999</td>\n",
              "    </tr>\n",
              "    <tr>\n",
              "      <th>9256</th>\n",
              "      <td>2022-12-01</td>\n",
              "      <td>254.690002</td>\n",
              "    </tr>\n",
              "    <tr>\n",
              "      <th>9257</th>\n",
              "      <td>2022-12-02</td>\n",
              "      <td>255.020004</td>\n",
              "    </tr>\n",
              "    <tr>\n",
              "      <th>9258</th>\n",
              "      <td>2022-12-05</td>\n",
              "      <td>250.199997</td>\n",
              "    </tr>\n",
              "    <tr>\n",
              "      <th>9259</th>\n",
              "      <td>2022-12-06</td>\n",
              "      <td>245.119995</td>\n",
              "    </tr>\n",
              "  </tbody>\n",
              "</table>\n",
              "<p>9260 rows × 2 columns</p>\n",
              "</div>\n",
              "      <button class=\"colab-df-convert\" onclick=\"convertToInteractive('df-cf0b5d4c-9b9a-41e9-b646-ae6edd445321')\"\n",
              "              title=\"Convert this dataframe to an interactive table.\"\n",
              "              style=\"display:none;\">\n",
              "        \n",
              "  <svg xmlns=\"http://www.w3.org/2000/svg\" height=\"24px\"viewBox=\"0 0 24 24\"\n",
              "       width=\"24px\">\n",
              "    <path d=\"M0 0h24v24H0V0z\" fill=\"none\"/>\n",
              "    <path d=\"M18.56 5.44l.94 2.06.94-2.06 2.06-.94-2.06-.94-.94-2.06-.94 2.06-2.06.94zm-11 1L8.5 8.5l.94-2.06 2.06-.94-2.06-.94L8.5 2.5l-.94 2.06-2.06.94zm10 10l.94 2.06.94-2.06 2.06-.94-2.06-.94-.94-2.06-.94 2.06-2.06.94z\"/><path d=\"M17.41 7.96l-1.37-1.37c-.4-.4-.92-.59-1.43-.59-.52 0-1.04.2-1.43.59L10.3 9.45l-7.72 7.72c-.78.78-.78 2.05 0 2.83L4 21.41c.39.39.9.59 1.41.59.51 0 1.02-.2 1.41-.59l7.78-7.78 2.81-2.81c.8-.78.8-2.07 0-2.86zM5.41 20L4 18.59l7.72-7.72 1.47 1.35L5.41 20z\"/>\n",
              "  </svg>\n",
              "      </button>\n",
              "      \n",
              "  <style>\n",
              "    .colab-df-container {\n",
              "      display:flex;\n",
              "      flex-wrap:wrap;\n",
              "      gap: 12px;\n",
              "    }\n",
              "\n",
              "    .colab-df-convert {\n",
              "      background-color: #E8F0FE;\n",
              "      border: none;\n",
              "      border-radius: 50%;\n",
              "      cursor: pointer;\n",
              "      display: none;\n",
              "      fill: #1967D2;\n",
              "      height: 32px;\n",
              "      padding: 0 0 0 0;\n",
              "      width: 32px;\n",
              "    }\n",
              "\n",
              "    .colab-df-convert:hover {\n",
              "      background-color: #E2EBFA;\n",
              "      box-shadow: 0px 1px 2px rgba(60, 64, 67, 0.3), 0px 1px 3px 1px rgba(60, 64, 67, 0.15);\n",
              "      fill: #174EA6;\n",
              "    }\n",
              "\n",
              "    [theme=dark] .colab-df-convert {\n",
              "      background-color: #3B4455;\n",
              "      fill: #D2E3FC;\n",
              "    }\n",
              "\n",
              "    [theme=dark] .colab-df-convert:hover {\n",
              "      background-color: #434B5C;\n",
              "      box-shadow: 0px 1px 3px 1px rgba(0, 0, 0, 0.15);\n",
              "      filter: drop-shadow(0px 1px 2px rgba(0, 0, 0, 0.3));\n",
              "      fill: #FFFFFF;\n",
              "    }\n",
              "  </style>\n",
              "\n",
              "      <script>\n",
              "        const buttonEl =\n",
              "          document.querySelector('#df-cf0b5d4c-9b9a-41e9-b646-ae6edd445321 button.colab-df-convert');\n",
              "        buttonEl.style.display =\n",
              "          google.colab.kernel.accessAllowed ? 'block' : 'none';\n",
              "\n",
              "        async function convertToInteractive(key) {\n",
              "          const element = document.querySelector('#df-cf0b5d4c-9b9a-41e9-b646-ae6edd445321');\n",
              "          const dataTable =\n",
              "            await google.colab.kernel.invokeFunction('convertToInteractive',\n",
              "                                                     [key], {});\n",
              "          if (!dataTable) return;\n",
              "\n",
              "          const docLinkHtml = 'Like what you see? Visit the ' +\n",
              "            '<a target=\"_blank\" href=https://colab.research.google.com/notebooks/data_table.ipynb>data table notebook</a>'\n",
              "            + ' to learn more about interactive tables.';\n",
              "          element.innerHTML = '';\n",
              "          dataTable['output_type'] = 'display_data';\n",
              "          await google.colab.output.renderOutput(dataTable, element);\n",
              "          const docLink = document.createElement('div');\n",
              "          docLink.innerHTML = docLinkHtml;\n",
              "          element.appendChild(docLink);\n",
              "        }\n",
              "      </script>\n",
              "    </div>\n",
              "  </div>\n",
              "  "
            ]
          },
          "metadata": {},
          "execution_count": 3
        }
      ]
    },
    {
      "cell_type": "code",
      "source": [
        "df['Date']"
      ],
      "metadata": {
        "colab": {
          "base_uri": "https://localhost:8080/"
        },
        "id": "bH0YeREZG1VX",
        "outputId": "69abe84f-a0d2-4207-fefc-e7db52b5a26c"
      },
      "execution_count": 4,
      "outputs": [
        {
          "output_type": "execute_result",
          "data": {
            "text/plain": [
              "0       1986-03-13\n",
              "1       1986-03-14\n",
              "2       1986-03-17\n",
              "3       1986-03-18\n",
              "4       1986-03-19\n",
              "           ...    \n",
              "9255    2022-11-30\n",
              "9256    2022-12-01\n",
              "9257    2022-12-02\n",
              "9258    2022-12-05\n",
              "9259    2022-12-06\n",
              "Name: Date, Length: 9260, dtype: object"
            ]
          },
          "metadata": {},
          "execution_count": 4
        }
      ]
    },
    {
      "cell_type": "code",
      "source": [
        "import datetime\n",
        "\n",
        "def str_to_datetime(s):\n",
        "  d = s.split('-')\n",
        "  year, month, day = int(d[0]),int(d[1]),int(d[2])\n",
        "  return datetime.datetime(year=year,month = month ,day =day)\n",
        "\n",
        "datetime_obj = str_to_datetime('1986-03-15')  \n",
        "datetime_obj"
      ],
      "metadata": {
        "colab": {
          "base_uri": "https://localhost:8080/"
        },
        "id": "iVf_fi3_G9UO",
        "outputId": "a44156d7-a39a-4b28-ab74-0e0198f71afa"
      },
      "execution_count": 6,
      "outputs": [
        {
          "output_type": "execute_result",
          "data": {
            "text/plain": [
              "datetime.datetime(1986, 3, 15, 0, 0)"
            ]
          },
          "metadata": {},
          "execution_count": 6
        }
      ]
    },
    {
      "cell_type": "code",
      "source": [
        "df['Date']= df['Date'].apply(str_to_datetime)\n",
        "df['Date']"
      ],
      "metadata": {
        "colab": {
          "base_uri": "https://localhost:8080/"
        },
        "id": "fH3KJXnxIzL-",
        "outputId": "1c802179-5bcf-4c3a-cdcc-6822f0ce4301"
      },
      "execution_count": 7,
      "outputs": [
        {
          "output_type": "stream",
          "name": "stderr",
          "text": [
            "<ipython-input-7-74fa7e720c71>:1: SettingWithCopyWarning: \n",
            "A value is trying to be set on a copy of a slice from a DataFrame.\n",
            "Try using .loc[row_indexer,col_indexer] = value instead\n",
            "\n",
            "See the caveats in the documentation: https://pandas.pydata.org/pandas-docs/stable/user_guide/indexing.html#returning-a-view-versus-a-copy\n",
            "  df['Date']= df['Date'].apply(str_to_datetime)\n"
          ]
        },
        {
          "output_type": "execute_result",
          "data": {
            "text/plain": [
              "0      1986-03-13\n",
              "1      1986-03-14\n",
              "2      1986-03-17\n",
              "3      1986-03-18\n",
              "4      1986-03-19\n",
              "          ...    \n",
              "9255   2022-11-30\n",
              "9256   2022-12-01\n",
              "9257   2022-12-02\n",
              "9258   2022-12-05\n",
              "9259   2022-12-06\n",
              "Name: Date, Length: 9260, dtype: datetime64[ns]"
            ]
          },
          "metadata": {},
          "execution_count": 7
        }
      ]
    },
    {
      "cell_type": "code",
      "source": [
        "df\n"
      ],
      "metadata": {
        "colab": {
          "base_uri": "https://localhost:8080/",
          "height": 424
        },
        "id": "uDDEBUHWJocx",
        "outputId": "084e6545-7575-42a8-8f9d-160cf2aafd8a"
      },
      "execution_count": 8,
      "outputs": [
        {
          "output_type": "execute_result",
          "data": {
            "text/plain": [
              "           Date       Close\n",
              "0    1986-03-13    0.097222\n",
              "1    1986-03-14    0.100694\n",
              "2    1986-03-17    0.102431\n",
              "3    1986-03-18    0.099826\n",
              "4    1986-03-19    0.098090\n",
              "...         ...         ...\n",
              "9255 2022-11-30  255.139999\n",
              "9256 2022-12-01  254.690002\n",
              "9257 2022-12-02  255.020004\n",
              "9258 2022-12-05  250.199997\n",
              "9259 2022-12-06  245.119995\n",
              "\n",
              "[9260 rows x 2 columns]"
            ],
            "text/html": [
              "\n",
              "  <div id=\"df-af51e9c9-76d0-460e-800d-192949038a4c\">\n",
              "    <div class=\"colab-df-container\">\n",
              "      <div>\n",
              "<style scoped>\n",
              "    .dataframe tbody tr th:only-of-type {\n",
              "        vertical-align: middle;\n",
              "    }\n",
              "\n",
              "    .dataframe tbody tr th {\n",
              "        vertical-align: top;\n",
              "    }\n",
              "\n",
              "    .dataframe thead th {\n",
              "        text-align: right;\n",
              "    }\n",
              "</style>\n",
              "<table border=\"1\" class=\"dataframe\">\n",
              "  <thead>\n",
              "    <tr style=\"text-align: right;\">\n",
              "      <th></th>\n",
              "      <th>Date</th>\n",
              "      <th>Close</th>\n",
              "    </tr>\n",
              "  </thead>\n",
              "  <tbody>\n",
              "    <tr>\n",
              "      <th>0</th>\n",
              "      <td>1986-03-13</td>\n",
              "      <td>0.097222</td>\n",
              "    </tr>\n",
              "    <tr>\n",
              "      <th>1</th>\n",
              "      <td>1986-03-14</td>\n",
              "      <td>0.100694</td>\n",
              "    </tr>\n",
              "    <tr>\n",
              "      <th>2</th>\n",
              "      <td>1986-03-17</td>\n",
              "      <td>0.102431</td>\n",
              "    </tr>\n",
              "    <tr>\n",
              "      <th>3</th>\n",
              "      <td>1986-03-18</td>\n",
              "      <td>0.099826</td>\n",
              "    </tr>\n",
              "    <tr>\n",
              "      <th>4</th>\n",
              "      <td>1986-03-19</td>\n",
              "      <td>0.098090</td>\n",
              "    </tr>\n",
              "    <tr>\n",
              "      <th>...</th>\n",
              "      <td>...</td>\n",
              "      <td>...</td>\n",
              "    </tr>\n",
              "    <tr>\n",
              "      <th>9255</th>\n",
              "      <td>2022-11-30</td>\n",
              "      <td>255.139999</td>\n",
              "    </tr>\n",
              "    <tr>\n",
              "      <th>9256</th>\n",
              "      <td>2022-12-01</td>\n",
              "      <td>254.690002</td>\n",
              "    </tr>\n",
              "    <tr>\n",
              "      <th>9257</th>\n",
              "      <td>2022-12-02</td>\n",
              "      <td>255.020004</td>\n",
              "    </tr>\n",
              "    <tr>\n",
              "      <th>9258</th>\n",
              "      <td>2022-12-05</td>\n",
              "      <td>250.199997</td>\n",
              "    </tr>\n",
              "    <tr>\n",
              "      <th>9259</th>\n",
              "      <td>2022-12-06</td>\n",
              "      <td>245.119995</td>\n",
              "    </tr>\n",
              "  </tbody>\n",
              "</table>\n",
              "<p>9260 rows × 2 columns</p>\n",
              "</div>\n",
              "      <button class=\"colab-df-convert\" onclick=\"convertToInteractive('df-af51e9c9-76d0-460e-800d-192949038a4c')\"\n",
              "              title=\"Convert this dataframe to an interactive table.\"\n",
              "              style=\"display:none;\">\n",
              "        \n",
              "  <svg xmlns=\"http://www.w3.org/2000/svg\" height=\"24px\"viewBox=\"0 0 24 24\"\n",
              "       width=\"24px\">\n",
              "    <path d=\"M0 0h24v24H0V0z\" fill=\"none\"/>\n",
              "    <path d=\"M18.56 5.44l.94 2.06.94-2.06 2.06-.94-2.06-.94-.94-2.06-.94 2.06-2.06.94zm-11 1L8.5 8.5l.94-2.06 2.06-.94-2.06-.94L8.5 2.5l-.94 2.06-2.06.94zm10 10l.94 2.06.94-2.06 2.06-.94-2.06-.94-.94-2.06-.94 2.06-2.06.94z\"/><path d=\"M17.41 7.96l-1.37-1.37c-.4-.4-.92-.59-1.43-.59-.52 0-1.04.2-1.43.59L10.3 9.45l-7.72 7.72c-.78.78-.78 2.05 0 2.83L4 21.41c.39.39.9.59 1.41.59.51 0 1.02-.2 1.41-.59l7.78-7.78 2.81-2.81c.8-.78.8-2.07 0-2.86zM5.41 20L4 18.59l7.72-7.72 1.47 1.35L5.41 20z\"/>\n",
              "  </svg>\n",
              "      </button>\n",
              "      \n",
              "  <style>\n",
              "    .colab-df-container {\n",
              "      display:flex;\n",
              "      flex-wrap:wrap;\n",
              "      gap: 12px;\n",
              "    }\n",
              "\n",
              "    .colab-df-convert {\n",
              "      background-color: #E8F0FE;\n",
              "      border: none;\n",
              "      border-radius: 50%;\n",
              "      cursor: pointer;\n",
              "      display: none;\n",
              "      fill: #1967D2;\n",
              "      height: 32px;\n",
              "      padding: 0 0 0 0;\n",
              "      width: 32px;\n",
              "    }\n",
              "\n",
              "    .colab-df-convert:hover {\n",
              "      background-color: #E2EBFA;\n",
              "      box-shadow: 0px 1px 2px rgba(60, 64, 67, 0.3), 0px 1px 3px 1px rgba(60, 64, 67, 0.15);\n",
              "      fill: #174EA6;\n",
              "    }\n",
              "\n",
              "    [theme=dark] .colab-df-convert {\n",
              "      background-color: #3B4455;\n",
              "      fill: #D2E3FC;\n",
              "    }\n",
              "\n",
              "    [theme=dark] .colab-df-convert:hover {\n",
              "      background-color: #434B5C;\n",
              "      box-shadow: 0px 1px 3px 1px rgba(0, 0, 0, 0.15);\n",
              "      filter: drop-shadow(0px 1px 2px rgba(0, 0, 0, 0.3));\n",
              "      fill: #FFFFFF;\n",
              "    }\n",
              "  </style>\n",
              "\n",
              "      <script>\n",
              "        const buttonEl =\n",
              "          document.querySelector('#df-af51e9c9-76d0-460e-800d-192949038a4c button.colab-df-convert');\n",
              "        buttonEl.style.display =\n",
              "          google.colab.kernel.accessAllowed ? 'block' : 'none';\n",
              "\n",
              "        async function convertToInteractive(key) {\n",
              "          const element = document.querySelector('#df-af51e9c9-76d0-460e-800d-192949038a4c');\n",
              "          const dataTable =\n",
              "            await google.colab.kernel.invokeFunction('convertToInteractive',\n",
              "                                                     [key], {});\n",
              "          if (!dataTable) return;\n",
              "\n",
              "          const docLinkHtml = 'Like what you see? Visit the ' +\n",
              "            '<a target=\"_blank\" href=https://colab.research.google.com/notebooks/data_table.ipynb>data table notebook</a>'\n",
              "            + ' to learn more about interactive tables.';\n",
              "          element.innerHTML = '';\n",
              "          dataTable['output_type'] = 'display_data';\n",
              "          await google.colab.output.renderOutput(dataTable, element);\n",
              "          const docLink = document.createElement('div');\n",
              "          docLink.innerHTML = docLinkHtml;\n",
              "          element.appendChild(docLink);\n",
              "        }\n",
              "      </script>\n",
              "    </div>\n",
              "  </div>\n",
              "  "
            ]
          },
          "metadata": {},
          "execution_count": 8
        }
      ]
    },
    {
      "cell_type": "code",
      "source": [
        "df.index = df.pop('Date')\n",
        "df"
      ],
      "metadata": {
        "colab": {
          "base_uri": "https://localhost:8080/",
          "height": 455
        },
        "id": "zW-OTXXXJ4Tr",
        "outputId": "95335a1e-b491-41d8-86c2-73de02ef8e7d"
      },
      "execution_count": 9,
      "outputs": [
        {
          "output_type": "execute_result",
          "data": {
            "text/plain": [
              "                 Close\n",
              "Date                  \n",
              "1986-03-13    0.097222\n",
              "1986-03-14    0.100694\n",
              "1986-03-17    0.102431\n",
              "1986-03-18    0.099826\n",
              "1986-03-19    0.098090\n",
              "...                ...\n",
              "2022-11-30  255.139999\n",
              "2022-12-01  254.690002\n",
              "2022-12-02  255.020004\n",
              "2022-12-05  250.199997\n",
              "2022-12-06  245.119995\n",
              "\n",
              "[9260 rows x 1 columns]"
            ],
            "text/html": [
              "\n",
              "  <div id=\"df-76e80484-2ba6-4d8b-9172-8c15b87700c1\">\n",
              "    <div class=\"colab-df-container\">\n",
              "      <div>\n",
              "<style scoped>\n",
              "    .dataframe tbody tr th:only-of-type {\n",
              "        vertical-align: middle;\n",
              "    }\n",
              "\n",
              "    .dataframe tbody tr th {\n",
              "        vertical-align: top;\n",
              "    }\n",
              "\n",
              "    .dataframe thead th {\n",
              "        text-align: right;\n",
              "    }\n",
              "</style>\n",
              "<table border=\"1\" class=\"dataframe\">\n",
              "  <thead>\n",
              "    <tr style=\"text-align: right;\">\n",
              "      <th></th>\n",
              "      <th>Close</th>\n",
              "    </tr>\n",
              "    <tr>\n",
              "      <th>Date</th>\n",
              "      <th></th>\n",
              "    </tr>\n",
              "  </thead>\n",
              "  <tbody>\n",
              "    <tr>\n",
              "      <th>1986-03-13</th>\n",
              "      <td>0.097222</td>\n",
              "    </tr>\n",
              "    <tr>\n",
              "      <th>1986-03-14</th>\n",
              "      <td>0.100694</td>\n",
              "    </tr>\n",
              "    <tr>\n",
              "      <th>1986-03-17</th>\n",
              "      <td>0.102431</td>\n",
              "    </tr>\n",
              "    <tr>\n",
              "      <th>1986-03-18</th>\n",
              "      <td>0.099826</td>\n",
              "    </tr>\n",
              "    <tr>\n",
              "      <th>1986-03-19</th>\n",
              "      <td>0.098090</td>\n",
              "    </tr>\n",
              "    <tr>\n",
              "      <th>...</th>\n",
              "      <td>...</td>\n",
              "    </tr>\n",
              "    <tr>\n",
              "      <th>2022-11-30</th>\n",
              "      <td>255.139999</td>\n",
              "    </tr>\n",
              "    <tr>\n",
              "      <th>2022-12-01</th>\n",
              "      <td>254.690002</td>\n",
              "    </tr>\n",
              "    <tr>\n",
              "      <th>2022-12-02</th>\n",
              "      <td>255.020004</td>\n",
              "    </tr>\n",
              "    <tr>\n",
              "      <th>2022-12-05</th>\n",
              "      <td>250.199997</td>\n",
              "    </tr>\n",
              "    <tr>\n",
              "      <th>2022-12-06</th>\n",
              "      <td>245.119995</td>\n",
              "    </tr>\n",
              "  </tbody>\n",
              "</table>\n",
              "<p>9260 rows × 1 columns</p>\n",
              "</div>\n",
              "      <button class=\"colab-df-convert\" onclick=\"convertToInteractive('df-76e80484-2ba6-4d8b-9172-8c15b87700c1')\"\n",
              "              title=\"Convert this dataframe to an interactive table.\"\n",
              "              style=\"display:none;\">\n",
              "        \n",
              "  <svg xmlns=\"http://www.w3.org/2000/svg\" height=\"24px\"viewBox=\"0 0 24 24\"\n",
              "       width=\"24px\">\n",
              "    <path d=\"M0 0h24v24H0V0z\" fill=\"none\"/>\n",
              "    <path d=\"M18.56 5.44l.94 2.06.94-2.06 2.06-.94-2.06-.94-.94-2.06-.94 2.06-2.06.94zm-11 1L8.5 8.5l.94-2.06 2.06-.94-2.06-.94L8.5 2.5l-.94 2.06-2.06.94zm10 10l.94 2.06.94-2.06 2.06-.94-2.06-.94-.94-2.06-.94 2.06-2.06.94z\"/><path d=\"M17.41 7.96l-1.37-1.37c-.4-.4-.92-.59-1.43-.59-.52 0-1.04.2-1.43.59L10.3 9.45l-7.72 7.72c-.78.78-.78 2.05 0 2.83L4 21.41c.39.39.9.59 1.41.59.51 0 1.02-.2 1.41-.59l7.78-7.78 2.81-2.81c.8-.78.8-2.07 0-2.86zM5.41 20L4 18.59l7.72-7.72 1.47 1.35L5.41 20z\"/>\n",
              "  </svg>\n",
              "      </button>\n",
              "      \n",
              "  <style>\n",
              "    .colab-df-container {\n",
              "      display:flex;\n",
              "      flex-wrap:wrap;\n",
              "      gap: 12px;\n",
              "    }\n",
              "\n",
              "    .colab-df-convert {\n",
              "      background-color: #E8F0FE;\n",
              "      border: none;\n",
              "      border-radius: 50%;\n",
              "      cursor: pointer;\n",
              "      display: none;\n",
              "      fill: #1967D2;\n",
              "      height: 32px;\n",
              "      padding: 0 0 0 0;\n",
              "      width: 32px;\n",
              "    }\n",
              "\n",
              "    .colab-df-convert:hover {\n",
              "      background-color: #E2EBFA;\n",
              "      box-shadow: 0px 1px 2px rgba(60, 64, 67, 0.3), 0px 1px 3px 1px rgba(60, 64, 67, 0.15);\n",
              "      fill: #174EA6;\n",
              "    }\n",
              "\n",
              "    [theme=dark] .colab-df-convert {\n",
              "      background-color: #3B4455;\n",
              "      fill: #D2E3FC;\n",
              "    }\n",
              "\n",
              "    [theme=dark] .colab-df-convert:hover {\n",
              "      background-color: #434B5C;\n",
              "      box-shadow: 0px 1px 3px 1px rgba(0, 0, 0, 0.15);\n",
              "      filter: drop-shadow(0px 1px 2px rgba(0, 0, 0, 0.3));\n",
              "      fill: #FFFFFF;\n",
              "    }\n",
              "  </style>\n",
              "\n",
              "      <script>\n",
              "        const buttonEl =\n",
              "          document.querySelector('#df-76e80484-2ba6-4d8b-9172-8c15b87700c1 button.colab-df-convert');\n",
              "        buttonEl.style.display =\n",
              "          google.colab.kernel.accessAllowed ? 'block' : 'none';\n",
              "\n",
              "        async function convertToInteractive(key) {\n",
              "          const element = document.querySelector('#df-76e80484-2ba6-4d8b-9172-8c15b87700c1');\n",
              "          const dataTable =\n",
              "            await google.colab.kernel.invokeFunction('convertToInteractive',\n",
              "                                                     [key], {});\n",
              "          if (!dataTable) return;\n",
              "\n",
              "          const docLinkHtml = 'Like what you see? Visit the ' +\n",
              "            '<a target=\"_blank\" href=https://colab.research.google.com/notebooks/data_table.ipynb>data table notebook</a>'\n",
              "            + ' to learn more about interactive tables.';\n",
              "          element.innerHTML = '';\n",
              "          dataTable['output_type'] = 'display_data';\n",
              "          await google.colab.output.renderOutput(dataTable, element);\n",
              "          const docLink = document.createElement('div');\n",
              "          docLink.innerHTML = docLinkHtml;\n",
              "          element.appendChild(docLink);\n",
              "        }\n",
              "      </script>\n",
              "    </div>\n",
              "  </div>\n",
              "  "
            ]
          },
          "metadata": {},
          "execution_count": 9
        }
      ]
    },
    {
      "cell_type": "code",
      "source": [
        "import matplotlib.pyplot as plt\n",
        "\n",
        "plt.plot(df.index , df['Close'])"
      ],
      "metadata": {
        "colab": {
          "base_uri": "https://localhost:8080/",
          "height": 282
        },
        "id": "X0_Mj_wzJ-wv",
        "outputId": "7215fef5-d121-4dc1-d22c-e89cfaaff007"
      },
      "execution_count": 10,
      "outputs": [
        {
          "output_type": "execute_result",
          "data": {
            "text/plain": [
              "[<matplotlib.lines.Line2D at 0x7f7e4d8c4310>]"
            ]
          },
          "metadata": {},
          "execution_count": 10
        },
        {
          "output_type": "display_data",
          "data": {
            "text/plain": [
              "<Figure size 432x288 with 1 Axes>"
            ],
            "image/png": "[encoded data removed]"
          },
          "metadata": {
            "needs_background": "light"
          }
        }
      ]
    },
    {
      "cell_type": "code",
      "source": [
        "import numpy as np\n",
        "\n",
        "def df_to_windowed_df(dataframe, first_date_str, last_date_str, n=3):\n",
        "  first_date = str_to_datetime(first_date_str)\n",
        "  last_date  = str_to_datetime(last_date_str)\n",
        "\n",
        "  target_date = first_date\n",
        "  \n",
        "  dates = []\n",
        "  X, Y = [], []\n",
        "\n",
        "  last_time = False\n",
        "  while True:\n",
        "    df_subset = dataframe.loc[:target_date].tail(n+1)\n",
        "    \n",
        "    if len(df_subset) != n+1:\n",
        "      print(f'Error: Window of size {n} is too large for date {target_date}')\n",
        "      return\n",
        "\n",
        "    values = df_subset['Close'].to_numpy()\n",
        "    x, y = values[:-1], values[-1]\n",
        "\n",
        "    dates.append(target_date)\n",
        "    X.append(x)\n",
        "    Y.append(y)\n",
        "\n",
        "    next_week = dataframe.loc[target_date:target_date+datetime.timedelta(days=7)]\n",
        "    next_datetime_str = str(next_week.head(2).tail(1).index.values[0])\n",
        "    next_date_str = next_datetime_str.split('T')[0]\n",
        "    year_month_day = next_date_str.split('-')\n",
        "    year, month, day = year_month_day\n",
        "    next_date = datetime.datetime(day=int(day), month=int(month), year=int(year))\n",
        "    \n",
        "    if last_time:\n",
        "      break\n",
        "    \n",
        "    target_date = next_date\n",
        "\n",
        "    if target_date == last_date:\n",
        "      last_time = True\n",
        "    \n",
        "  ret_df = pd.DataFrame({})\n",
        "  ret_df['Target Date'] = dates\n",
        "  \n",
        "  X = np.array(X)\n",
        "  for i in range(0, n):\n",
        "    X[:, i]\n",
        "    ret_df[f'Target-{n-i}'] = X[:, i]\n",
        "  \n",
        "  ret_df['Target'] = Y\n",
        "\n",
        "  return ret_df\n",
        "\n",
        "# Start day second time around: '1986-03-18'\n",
        "windowed_df = df_to_windowed_df(df, \n",
        "                                '1986-03-18', \n",
        "                                '2022-12-6', \n",
        "                                n=3)\n",
        "windowed_df"
      ],
      "metadata": {
        "colab": {
          "base_uri": "https://localhost:8080/",
          "height": 424
        },
        "id": "fsU9d3u0HdYj",
        "outputId": "8367087a-e9a4-4e98-81c5-588d4fcfbc6e"
      },
      "execution_count": 12,
      "outputs": [
        {
          "output_type": "execute_result",
          "data": {
            "text/plain": [
              "     Target Date    Target-3    Target-2    Target-1      Target\n",
              "0     1986-03-18    0.097222    0.100694    0.102431    0.099826\n",
              "1     1986-03-19    0.100694    0.102431    0.099826    0.098090\n",
              "2     1986-03-20    0.102431    0.099826    0.098090    0.095486\n",
              "3     1986-03-21    0.099826    0.098090    0.095486    0.092882\n",
              "4     1986-03-24    0.098090    0.095486    0.092882    0.090278\n",
              "...          ...         ...         ...         ...         ...\n",
              "9252  2022-11-30  247.490005  241.759995  240.330002  255.139999\n",
              "9253  2022-12-01  241.759995  240.330002  255.139999  254.690002\n",
              "9254  2022-12-02  240.330002  255.139999  254.690002  255.020004\n",
              "9255  2022-12-05  255.139999  254.690002  255.020004  250.199997\n",
              "9256  2022-12-06  254.690002  255.020004  250.199997  245.119995\n",
              "\n",
              "[9257 rows x 5 columns]"
            ],
            "text/html": [
              "\n",
              "  <div id=\"df-a8811ad4-43ee-4901-a906-98a3f9c98109\">\n",
              "    <div class=\"colab-df-container\">\n",
              "      <div>\n",
              "<style scoped>\n",
              "    .dataframe tbody tr th:only-of-type {\n",
              "        vertical-align: middle;\n",
              "    }\n",
              "\n",
              "    .dataframe tbody tr th {\n",
              "        vertical-align: top;\n",
              "    }\n",
              "\n",
              "    .dataframe thead th {\n",
              "        text-align: right;\n",
              "    }\n",
              "</style>\n",
              "<table border=\"1\" class=\"dataframe\">\n",
              "  <thead>\n",
              "    <tr style=\"text-align: right;\">\n",
              "      <th></th>\n",
              "      <th>Target Date</th>\n",
              "      <th>Target-3</th>\n",
              "      <th>Target-2</th>\n",
              "      <th>Target-1</th>\n",
              "      <th>Target</th>\n",
              "    </tr>\n",
              "  </thead>\n",
              "  <tbody>\n",
              "    <tr>\n",
              "      <th>0</th>\n",
              "      <td>1986-03-18</td>\n",
              "      <td>0.097222</td>\n",
              "      <td>0.100694</td>\n",
              "      <td>0.102431</td>\n",
              "      <td>0.099826</td>\n",
              "    </tr>\n",
              "    <tr>\n",
              "      <th>1</th>\n",
              "      <td>1986-03-19</td>\n",
              "      <td>0.100694</td>\n",
              "      <td>0.102431</td>\n",
              "      <td>0.099826</td>\n",
              "      <td>0.098090</td>\n",
              "    </tr>\n",
              "    <tr>\n",
              "      <th>2</th>\n",
              "      <td>1986-03-20</td>\n",
              "      <td>0.102431</td>\n",
              "      <td>0.099826</td>\n",
              "      <td>0.098090</td>\n",
              "      <td>0.095486</td>\n",
              "    </tr>\n",
              "    <tr>\n",
              "      <th>3</th>\n",
              "      <td>1986-03-21</td>\n",
              "      <td>0.099826</td>\n",
              "      <td>0.098090</td>\n",
              "      <td>0.095486</td>\n",
              "      <td>0.092882</td>\n",
              "    </tr>\n",
              "    <tr>\n",
              "      <th>4</th>\n",
              "      <td>1986-03-24</td>\n",
              "      <td>0.098090</td>\n",
              "      <td>0.095486</td>\n",
              "      <td>0.092882</td>\n",
              "      <td>0.090278</td>\n",
              "    </tr>\n",
              "    <tr>\n",
              "      <th>...</th>\n",
              "      <td>...</td>\n",
              "      <td>...</td>\n",
              "      <td>...</td>\n",
              "      <td>...</td>\n",
              "      <td>...</td>\n",
              "    </tr>\n",
              "    <tr>\n",
              "      <th>9252</th>\n",
              "      <td>2022-11-30</td>\n",
              "      <td>247.490005</td>\n",
              "      <td>241.759995</td>\n",
              "      <td>240.330002</td>\n",
              "      <td>255.139999</td>\n",
              "    </tr>\n",
              "    <tr>\n",
              "      <th>9253</th>\n",
              "      <td>2022-12-01</td>\n",
              "      <td>241.759995</td>\n",
              "      <td>240.330002</td>\n",
              "      <td>255.139999</td>\n",
              "      <td>254.690002</td>\n",
              "    </tr>\n",
              "    <tr>\n",
              "      <th>9254</th>\n",
              "      <td>2022-12-02</td>\n",
              "      <td>240.330002</td>\n",
              "      <td>255.139999</td>\n",
              "      <td>254.690002</td>\n",
              "      <td>255.020004</td>\n",
              "    </tr>\n",
              "    <tr>\n",
              "      <th>9255</th>\n",
              "      <td>2022-12-05</td>\n",
              "      <td>255.139999</td>\n",
              "      <td>254.690002</td>\n",
              "      <td>255.020004</td>\n",
              "      <td>250.199997</td>\n",
              "    </tr>\n",
              "    <tr>\n",
              "      <th>9256</th>\n",
              "      <td>2022-12-06</td>\n",
              "      <td>254.690002</td>\n",
              "      <td>255.020004</td>\n",
              "      <td>250.199997</td>\n",
              "      <td>245.119995</td>\n",
              "    </tr>\n",
              "  </tbody>\n",
              "</table>\n",
              "<p>9257 rows × 5 columns</p>\n",
              "</div>\n",
              "      <button class=\"colab-df-convert\" onclick=\"convertToInteractive('df-a8811ad4-43ee-4901-a906-98a3f9c98109')\"\n",
              "              title=\"Convert this dataframe to an interactive table.\"\n",
              "              style=\"display:none;\">\n",
              "        \n",
              "  <svg xmlns=\"http://www.w3.org/2000/svg\" height=\"24px\"viewBox=\"0 0 24 24\"\n",
              "       width=\"24px\">\n",
              "    <path d=\"M0 0h24v24H0V0z\" fill=\"none\"/>\n",
              "    <path d=\"M18.56 5.44l.94 2.06.94-2.06 2.06-.94-2.06-.94-.94-2.06-.94 2.06-2.06.94zm-11 1L8.5 8.5l.94-2.06 2.06-.94-2.06-.94L8.5 2.5l-.94 2.06-2.06.94zm10 10l.94 2.06.94-2.06 2.06-.94-2.06-.94-.94-2.06-.94 2.06-2.06.94z\"/><path d=\"M17.41 7.96l-1.37-1.37c-.4-.4-.92-.59-1.43-.59-.52 0-1.04.2-1.43.59L10.3 9.45l-7.72 7.72c-.78.78-.78 2.05 0 2.83L4 21.41c.39.39.9.59 1.41.59.51 0 1.02-.2 1.41-.59l7.78-7.78 2.81-2.81c.8-.78.8-2.07 0-2.86zM5.41 20L4 18.59l7.72-7.72 1.47 1.35L5.41 20z\"/>\n",
              "  </svg>\n",
              "      </button>\n",
              "      \n",
              "  <style>\n",
              "    .colab-df-container {\n",
              "      display:flex;\n",
              "      flex-wrap:wrap;\n",
              "      gap: 12px;\n",
              "    }\n",
              "\n",
              "    .colab-df-convert {\n",
              "      background-color: #E8F0FE;\n",
              "      border: none;\n",
              "      border-radius: 50%;\n",
              "      cursor: pointer;\n",
              "      display: none;\n",
              "      fill: #1967D2;\n",
              "      height: 32px;\n",
              "      padding: 0 0 0 0;\n",
              "      width: 32px;\n",
              "    }\n",
              "\n",
              "    .colab-df-convert:hover {\n",
              "      background-color: #E2EBFA;\n",
              "      box-shadow: 0px 1px 2px rgba(60, 64, 67, 0.3), 0px 1px 3px 1px rgba(60, 64, 67, 0.15);\n",
              "      fill: #174EA6;\n",
              "    }\n",
              "\n",
              "    [theme=dark] .colab-df-convert {\n",
              "      background-color: #3B4455;\n",
              "      fill: #D2E3FC;\n",
              "    }\n",
              "\n",
              "    [theme=dark] .colab-df-convert:hover {\n",
              "      background-color: #434B5C;\n",
              "      box-shadow: 0px 1px 3px 1px rgba(0, 0, 0, 0.15);\n",
              "      filter: drop-shadow(0px 1px 2px rgba(0, 0, 0, 0.3));\n",
              "      fill: #FFFFFF;\n",
              "    }\n",
              "  </style>\n",
              "\n",
              "      <script>\n",
              "        const buttonEl =\n",
              "          document.querySelector('#df-a8811ad4-43ee-4901-a906-98a3f9c98109 button.colab-df-convert');\n",
              "        buttonEl.style.display =\n",
              "          google.colab.kernel.accessAllowed ? 'block' : 'none';\n",
              "\n",
              "        async function convertToInteractive(key) {\n",
              "          const element = document.querySelector('#df-a8811ad4-43ee-4901-a906-98a3f9c98109');\n",
              "          const dataTable =\n",
              "            await google.colab.kernel.invokeFunction('convertToInteractive',\n",
              "                                                     [key], {});\n",
              "          if (!dataTable) return;\n",
              "\n",
              "          const docLinkHtml = 'Like what you see? Visit the ' +\n",
              "            '<a target=\"_blank\" href=https://colab.research.google.com/notebooks/data_table.ipynb>data table notebook</a>'\n",
              "            + ' to learn more about interactive tables.';\n",
              "          element.innerHTML = '';\n",
              "          dataTable['output_type'] = 'display_data';\n",
              "          await google.colab.output.renderOutput(dataTable, element);\n",
              "          const docLink = document.createElement('div');\n",
              "          docLink.innerHTML = docLinkHtml;\n",
              "          element.appendChild(docLink);\n",
              "        }\n",
              "      </script>\n",
              "    </div>\n",
              "  </div>\n",
              "  "
            ]
          },
          "metadata": {},
          "execution_count": 12
        }
      ]
    },
    {
      "cell_type": "code",
      "source": [],
      "metadata": {
        "id": "edRRmJFSP_Cy"
      },
      "execution_count": null,
      "outputs": []
    },
    {
      "cell_type": "code",
      "source": [
        "def windowed_df_to_date_X_y(windowed_dataframe):\n",
        "  df_as_np = windowed_dataframe.to_numpy()\n",
        "\n",
        "  dates = df_as_np[:, 0]\n",
        "\n",
        "  middle_matrix = df_as_np[:, 1:-1]\n",
        "  X = middle_matrix.reshape((len(dates), middle_matrix.shape[1], 1))\n",
        "\n",
        "  Y = df_as_np[:, -1]\n",
        "\n",
        "  return dates, X.astype(np.float32), Y.astype(np.float32)\n",
        "\n",
        "dates, X, y = windowed_df_to_date_X_y(windowed_df)\n",
        "\n",
        "dates.shape, X.shape, y.shape"
      ],
      "metadata": {
        "colab": {
          "base_uri": "https://localhost:8080/"
        },
        "id": "uD17zIbaIZ6n",
        "outputId": "234705d8-1b65-4ba6-94f6-1f14a9626b86"
      },
      "execution_count": 13,
      "outputs": [
        {
          "output_type": "execute_result",
          "data": {
            "text/plain": [
              "((9257,), (9257, 3, 1), (9257,))"
            ]
          },
          "metadata": {},
          "execution_count": 13
        }
      ]
    },
    {
      "cell_type": "code",
      "source": [],
      "metadata": {
        "id": "2_GxFMJPQpO8"
      },
      "execution_count": null,
      "outputs": []
    },
    {
      "cell_type": "code",
      "source": [
        "q_80 = int(len(dates) * .8)\n",
        "q_90 = int(len(dates) * .9)\n",
        "\n",
        "dates_train, X_train, y_train = dates[:q_80], X[:q_80], y[:q_80]\n",
        "\n",
        "dates_val, X_val, y_val = dates[q_80:q_90], X[q_80:q_90], y[q_80:q_90]\n",
        "dates_test, X_test, y_test = dates[q_90:], X[q_90:], y[q_90:]\n",
        "\n",
        "plt.plot(dates_train, y_train)\n",
        "plt.plot(dates_val, y_val)\n",
        "plt.plot(dates_test, y_test)\n",
        "\n",
        "plt.legend(['Train', 'Validation', 'Test'])"
      ],
      "metadata": {
        "colab": {
          "base_uri": "https://localhost:8080/",
          "height": 282
        },
        "id": "LPHWfwZeMZSS",
        "outputId": "8d229a89-b75e-4ce5-f556-3ac982655ca2"
      },
      "execution_count": 14,
      "outputs": [
        {
          "output_type": "execute_result",
          "data": {
            "text/plain": [
              "<matplotlib.legend.Legend at 0x7f7e4d3828e0>"
            ]
          },
          "metadata": {},
          "execution_count": 14
        },
        {
          "output_type": "display_data",
          "data": {
            "text/plain": [
              "<Figure size 432x288 with 1 Axes>"
            ],
            "image/png": "[encoded data removed]"
          },
          "metadata": {
            "needs_background": "light"
          }
        }
      ]
    },
    {
      "cell_type": "code",
      "source": [],
      "metadata": {
        "id": "u3DlD3noQw0w"
      },
      "execution_count": null,
      "outputs": []
    },
    {
      "cell_type": "code",
      "source": [
        "from tensorflow.keras.models import Sequential\n",
        "from tensorflow.keras.optimizers import Adam\n",
        "from tensorflow.keras import layers\n",
        "\n",
        "model = Sequential([layers.Input((3, 1)),\n",
        "                    layers.LSTM(64),\n",
        "                    layers.Dense(32, activation='relu'),\n",
        "                    layers.Dense(32, activation='relu'),\n",
        "                    layers.Dense(1)])\n",
        "\n",
        "model.compile(loss='mse', \n",
        "              optimizer=Adam(learning_rate=0.001),\n",
        "              metrics=['mean_absolute_error'])\n",
        "\n",
        "model.fit(X_train, y_train, validation_data=(X_val, y_val), epochs=100)"
      ],
      "metadata": {
        "colab": {
          "base_uri": "https://localhost:8080/"
        },
        "id": "PGiLbQIYOawE",
        "outputId": "5b30cbdb-2b59-4dc9-ddc8-b94b55450ed4"
      },
      "execution_count": 15,
      "outputs": [
        {
          "output_type": "stream",
          "name": "stdout",
          "text": [
            "Epoch 1/100\n",
            "232/232 [==============================] - 4s 6ms/step - loss: 108.6562 - mean_absolute_error: 4.7426 - val_loss: 1089.4412 - val_mean_absolute_error: 24.7577\n",
            "Epoch 2/100\n",
            "232/232 [==============================] - 1s 4ms/step - loss: 0.3641 - mean_absolute_error: 0.3336 - val_loss: 909.6462 - val_mean_absolute_error: 21.8120\n",
            "Epoch 3/100\n",
            "232/232 [==============================] - 1s 4ms/step - loss: 0.3367 - mean_absolute_error: 0.3341 - val_loss: 828.3944 - val_mean_absolute_error: 20.3677\n",
            "Epoch 4/100\n",
            "232/232 [==============================] - 1s 4ms/step - loss: 0.3366 - mean_absolute_error: 0.3384 - val_loss: 777.8132 - val_mean_absolute_error: 19.5277\n",
            "Epoch 5/100\n",
            "232/232 [==============================] - 1s 4ms/step - loss: 0.3247 - mean_absolute_error: 0.3397 - val_loss: 752.5002 - val_mean_absolute_error: 19.1877\n",
            "Epoch 6/100\n",
            "232/232 [==============================] - 1s 4ms/step - loss: 0.3054 - mean_absolute_error: 0.3198 - val_loss: 718.7561 - val_mean_absolute_error: 18.4397\n",
            "Epoch 7/100\n",
            "232/232 [==============================] - 1s 4ms/step - loss: 0.2987 - mean_absolute_error: 0.3201 - val_loss: 702.9517 - val_mean_absolute_error: 18.1489\n",
            "Epoch 8/100\n",
            "232/232 [==============================] - 1s 4ms/step - loss: 0.3276 - mean_absolute_error: 0.3356 - val_loss: 684.2070 - val_mean_absolute_error: 17.8410\n",
            "Epoch 9/100\n",
            "232/232 [==============================] - 1s 4ms/step - loss: 0.3022 - mean_absolute_error: 0.3194 - val_loss: 683.0164 - val_mean_absolute_error: 18.4181\n",
            "Epoch 10/100\n",
            "232/232 [==============================] - 1s 4ms/step - loss: 0.3502 - mean_absolute_error: 0.3543 - val_loss: 665.8759 - val_mean_absolute_error: 17.5296\n",
            "Epoch 11/100\n",
            "232/232 [==============================] - 1s 4ms/step - loss: 0.3106 - mean_absolute_error: 0.3236 - val_loss: 660.7193 - val_mean_absolute_error: 17.4646\n",
            "Epoch 12/100\n",
            "232/232 [==============================] - 1s 4ms/step - loss: 0.3132 - mean_absolute_error: 0.3261 - val_loss: 649.7531 - val_mean_absolute_error: 17.4712\n",
            "Epoch 13/100\n",
            "232/232 [==============================] - 1s 4ms/step - loss: 0.3096 - mean_absolute_error: 0.3261 - val_loss: 636.1809 - val_mean_absolute_error: 17.0389\n",
            "Epoch 14/100\n",
            "232/232 [==============================] - 1s 4ms/step - loss: 0.3312 - mean_absolute_error: 0.3430 - val_loss: 630.4604 - val_mean_absolute_error: 16.9018\n",
            "Epoch 15/100\n",
            "232/232 [==============================] - 1s 4ms/step - loss: 0.3380 - mean_absolute_error: 0.3450 - val_loss: 629.2328 - val_mean_absolute_error: 17.0708\n",
            "Epoch 16/100\n",
            "232/232 [==============================] - 1s 4ms/step - loss: 0.3173 - mean_absolute_error: 0.3356 - val_loss: 619.8116 - val_mean_absolute_error: 16.8796\n",
            "Epoch 17/100\n",
            "232/232 [==============================] - 1s 4ms/step - loss: 0.3128 - mean_absolute_error: 0.3270 - val_loss: 598.6232 - val_mean_absolute_error: 16.3941\n",
            "Epoch 18/100\n",
            "232/232 [==============================] - 1s 4ms/step - loss: 0.3051 - mean_absolute_error: 0.3262 - val_loss: 572.6341 - val_mean_absolute_error: 15.9690\n",
            "Epoch 19/100\n",
            "232/232 [==============================] - 1s 4ms/step - loss: 0.3331 - mean_absolute_error: 0.3390 - val_loss: 610.8484 - val_mean_absolute_error: 17.3911\n",
            "Epoch 20/100\n",
            "232/232 [==============================] - 1s 4ms/step - loss: 0.3163 - mean_absolute_error: 0.3333 - val_loss: 571.1149 - val_mean_absolute_error: 15.8762\n",
            "Epoch 21/100\n",
            "232/232 [==============================] - 1s 4ms/step - loss: 0.2998 - mean_absolute_error: 0.3206 - val_loss: 583.9294 - val_mean_absolute_error: 16.3971\n",
            "Epoch 22/100\n",
            "232/232 [==============================] - 1s 4ms/step - loss: 0.3327 - mean_absolute_error: 0.3426 - val_loss: 583.6686 - val_mean_absolute_error: 16.6846\n",
            "Epoch 23/100\n",
            "232/232 [==============================] - 1s 4ms/step - loss: 0.3003 - mean_absolute_error: 0.3188 - val_loss: 552.6169 - val_mean_absolute_error: 15.6422\n",
            "Epoch 24/100\n",
            "232/232 [==============================] - 1s 4ms/step - loss: 0.3348 - mean_absolute_error: 0.3488 - val_loss: 565.7173 - val_mean_absolute_error: 16.1053\n",
            "Epoch 25/100\n",
            "232/232 [==============================] - 1s 4ms/step - loss: 0.3073 - mean_absolute_error: 0.3260 - val_loss: 552.0567 - val_mean_absolute_error: 15.7184\n",
            "Epoch 26/100\n",
            "232/232 [==============================] - 1s 4ms/step - loss: 0.3035 - mean_absolute_error: 0.3194 - val_loss: 534.7144 - val_mean_absolute_error: 15.4405\n",
            "Epoch 27/100\n",
            "232/232 [==============================] - 1s 4ms/step - loss: 0.3115 - mean_absolute_error: 0.3307 - val_loss: 539.7668 - val_mean_absolute_error: 15.6921\n",
            "Epoch 28/100\n",
            "232/232 [==============================] - 1s 4ms/step - loss: 0.2954 - mean_absolute_error: 0.3146 - val_loss: 548.7908 - val_mean_absolute_error: 16.5494\n",
            "Epoch 29/100\n",
            "232/232 [==============================] - 1s 4ms/step - loss: 0.3239 - mean_absolute_error: 0.3394 - val_loss: 511.9989 - val_mean_absolute_error: 15.1233\n",
            "Epoch 30/100\n",
            "232/232 [==============================] - 1s 4ms/step - loss: 0.3077 - mean_absolute_error: 0.3245 - val_loss: 523.2917 - val_mean_absolute_error: 15.5231\n",
            "Epoch 31/100\n",
            "232/232 [==============================] - 1s 4ms/step - loss: 0.3068 - mean_absolute_error: 0.3250 - val_loss: 527.8344 - val_mean_absolute_error: 15.2481\n",
            "Epoch 32/100\n",
            "232/232 [==============================] - 1s 4ms/step - loss: 0.3203 - mean_absolute_error: 0.3336 - val_loss: 525.3615 - val_mean_absolute_error: 15.3187\n",
            "Epoch 33/100\n",
            "232/232 [==============================] - 1s 4ms/step - loss: 0.3277 - mean_absolute_error: 0.3452 - val_loss: 530.9383 - val_mean_absolute_error: 15.5267\n",
            "Epoch 34/100\n",
            "232/232 [==============================] - 1s 4ms/step - loss: 0.2994 - mean_absolute_error: 0.3247 - val_loss: 552.1333 - val_mean_absolute_error: 16.2488\n",
            "Epoch 35/100\n",
            "232/232 [==============================] - 1s 4ms/step - loss: 0.3205 - mean_absolute_error: 0.3359 - val_loss: 529.6292 - val_mean_absolute_error: 15.4804\n",
            "Epoch 36/100\n",
            "232/232 [==============================] - 1s 4ms/step - loss: 0.3027 - mean_absolute_error: 0.3278 - val_loss: 537.9245 - val_mean_absolute_error: 15.6139\n",
            "Epoch 37/100\n",
            "232/232 [==============================] - 1s 4ms/step - loss: 0.3112 - mean_absolute_error: 0.3335 - val_loss: 527.5230 - val_mean_absolute_error: 15.3022\n",
            "Epoch 38/100\n",
            "232/232 [==============================] - 1s 4ms/step - loss: 0.3008 - mean_absolute_error: 0.3193 - val_loss: 515.4839 - val_mean_absolute_error: 15.0519\n",
            "Epoch 39/100\n",
            "232/232 [==============================] - 1s 4ms/step - loss: 0.3065 - mean_absolute_error: 0.3256 - val_loss: 521.2730 - val_mean_absolute_error: 15.7058\n",
            "Epoch 40/100\n",
            "232/232 [==============================] - 1s 4ms/step - loss: 0.3123 - mean_absolute_error: 0.3338 - val_loss: 525.1138 - val_mean_absolute_error: 15.5770\n",
            "Epoch 41/100\n",
            "232/232 [==============================] - 1s 4ms/step - loss: 0.3133 - mean_absolute_error: 0.3318 - val_loss: 517.8085 - val_mean_absolute_error: 15.2889\n",
            "Epoch 42/100\n",
            "232/232 [==============================] - 1s 4ms/step - loss: 0.3153 - mean_absolute_error: 0.3385 - val_loss: 513.5632 - val_mean_absolute_error: 15.1562\n",
            "Epoch 43/100\n",
            "232/232 [==============================] - 1s 4ms/step - loss: 0.2922 - mean_absolute_error: 0.3134 - val_loss: 494.1831 - val_mean_absolute_error: 14.7188\n",
            "Epoch 44/100\n",
            "232/232 [==============================] - 1s 4ms/step - loss: 0.3100 - mean_absolute_error: 0.3272 - val_loss: 502.9184 - val_mean_absolute_error: 15.0181\n",
            "Epoch 45/100\n",
            "232/232 [==============================] - 1s 4ms/step - loss: 0.3079 - mean_absolute_error: 0.3260 - val_loss: 499.2292 - val_mean_absolute_error: 14.8305\n",
            "Epoch 46/100\n",
            "232/232 [==============================] - 1s 4ms/step - loss: 0.3411 - mean_absolute_error: 0.3512 - val_loss: 538.8316 - val_mean_absolute_error: 15.7892\n",
            "Epoch 47/100\n",
            "232/232 [==============================] - 1s 4ms/step - loss: 0.2964 - mean_absolute_error: 0.3195 - val_loss: 519.1365 - val_mean_absolute_error: 15.4048\n",
            "Epoch 48/100\n",
            "232/232 [==============================] - 1s 4ms/step - loss: 0.3055 - mean_absolute_error: 0.3269 - val_loss: 496.4429 - val_mean_absolute_error: 14.7958\n",
            "Epoch 49/100\n",
            "232/232 [==============================] - 1s 4ms/step - loss: 0.2990 - mean_absolute_error: 0.3214 - val_loss: 497.3711 - val_mean_absolute_error: 14.7806\n",
            "Epoch 50/100\n",
            "232/232 [==============================] - 1s 4ms/step - loss: 0.3065 - mean_absolute_error: 0.3271 - val_loss: 531.5266 - val_mean_absolute_error: 15.8049\n",
            "Epoch 51/100\n",
            "232/232 [==============================] - 1s 4ms/step - loss: 0.3008 - mean_absolute_error: 0.3220 - val_loss: 526.6196 - val_mean_absolute_error: 15.6089\n",
            "Epoch 52/100\n",
            "232/232 [==============================] - 1s 4ms/step - loss: 0.3200 - mean_absolute_error: 0.3352 - val_loss: 554.4613 - val_mean_absolute_error: 16.3305\n",
            "Epoch 53/100\n",
            "232/232 [==============================] - 1s 4ms/step - loss: 0.3255 - mean_absolute_error: 0.3380 - val_loss: 509.6683 - val_mean_absolute_error: 15.0487\n",
            "Epoch 54/100\n",
            "232/232 [==============================] - 1s 4ms/step - loss: 0.3026 - mean_absolute_error: 0.3196 - val_loss: 508.2066 - val_mean_absolute_error: 14.9637\n",
            "Epoch 55/100\n",
            "232/232 [==============================] - 1s 4ms/step - loss: 0.3109 - mean_absolute_error: 0.3281 - val_loss: 479.2781 - val_mean_absolute_error: 14.4809\n",
            "Epoch 56/100\n",
            "232/232 [==============================] - 1s 4ms/step - loss: 0.2947 - mean_absolute_error: 0.3174 - val_loss: 509.6345 - val_mean_absolute_error: 15.1833\n",
            "Epoch 57/100\n",
            "232/232 [==============================] - 1s 4ms/step - loss: 0.3011 - mean_absolute_error: 0.3191 - val_loss: 501.7602 - val_mean_absolute_error: 14.9663\n",
            "Epoch 58/100\n",
            "232/232 [==============================] - 1s 4ms/step - loss: 0.3191 - mean_absolute_error: 0.3344 - val_loss: 499.1934 - val_mean_absolute_error: 14.8832\n",
            "Epoch 59/100\n",
            "232/232 [==============================] - 1s 4ms/step - loss: 0.2925 - mean_absolute_error: 0.3128 - val_loss: 484.5413 - val_mean_absolute_error: 14.5999\n",
            "Epoch 60/100\n",
            "232/232 [==============================] - 1s 4ms/step - loss: 0.2959 - mean_absolute_error: 0.3176 - val_loss: 494.1082 - val_mean_absolute_error: 15.0096\n",
            "Epoch 61/100\n",
            "232/232 [==============================] - 1s 4ms/step - loss: 0.3179 - mean_absolute_error: 0.3357 - val_loss: 516.0558 - val_mean_absolute_error: 15.1695\n",
            "Epoch 62/100\n",
            "232/232 [==============================] - 1s 4ms/step - loss: 0.3256 - mean_absolute_error: 0.3405 - val_loss: 494.6787 - val_mean_absolute_error: 14.8033\n",
            "Epoch 63/100\n",
            "232/232 [==============================] - 1s 4ms/step - loss: 0.3081 - mean_absolute_error: 0.3239 - val_loss: 508.8250 - val_mean_absolute_error: 15.1863\n",
            "Epoch 64/100\n",
            "232/232 [==============================] - 1s 4ms/step - loss: 0.2938 - mean_absolute_error: 0.3139 - val_loss: 490.3597 - val_mean_absolute_error: 14.7205\n",
            "Epoch 65/100\n",
            "232/232 [==============================] - 1s 4ms/step - loss: 0.3214 - mean_absolute_error: 0.3383 - val_loss: 491.4167 - val_mean_absolute_error: 14.7410\n",
            "Epoch 66/100\n",
            "232/232 [==============================] - 1s 4ms/step - loss: 0.3085 - mean_absolute_error: 0.3263 - val_loss: 521.7454 - val_mean_absolute_error: 15.5220\n",
            "Epoch 67/100\n",
            "232/232 [==============================] - 1s 4ms/step - loss: 0.3017 - mean_absolute_error: 0.3210 - val_loss: 504.3524 - val_mean_absolute_error: 15.3569\n",
            "Epoch 68/100\n",
            "232/232 [==============================] - 1s 4ms/step - loss: 0.2945 - mean_absolute_error: 0.3172 - val_loss: 526.7042 - val_mean_absolute_error: 16.0883\n",
            "Epoch 69/100\n",
            "232/232 [==============================] - 1s 4ms/step - loss: 0.3023 - mean_absolute_error: 0.3205 - val_loss: 490.5565 - val_mean_absolute_error: 14.9790\n",
            "Epoch 70/100\n",
            "232/232 [==============================] - 1s 4ms/step - loss: 0.3330 - mean_absolute_error: 0.3436 - val_loss: 509.6849 - val_mean_absolute_error: 15.5345\n",
            "Epoch 71/100\n",
            "232/232 [==============================] - 1s 4ms/step - loss: 0.2889 - mean_absolute_error: 0.3091 - val_loss: 503.4066 - val_mean_absolute_error: 15.1509\n",
            "Epoch 72/100\n",
            "232/232 [==============================] - 1s 4ms/step - loss: 0.2894 - mean_absolute_error: 0.3095 - val_loss: 502.1221 - val_mean_absolute_error: 15.0860\n",
            "Epoch 73/100\n",
            "232/232 [==============================] - 1s 4ms/step - loss: 0.2965 - mean_absolute_error: 0.3213 - val_loss: 497.1873 - val_mean_absolute_error: 15.1540\n",
            "Epoch 74/100\n",
            "232/232 [==============================] - 1s 4ms/step - loss: 0.3136 - mean_absolute_error: 0.3301 - val_loss: 500.7566 - val_mean_absolute_error: 14.9914\n",
            "Epoch 75/100\n",
            "232/232 [==============================] - 1s 4ms/step - loss: 0.2954 - mean_absolute_error: 0.3152 - val_loss: 496.4369 - val_mean_absolute_error: 15.4592\n",
            "Epoch 76/100\n",
            "232/232 [==============================] - 1s 4ms/step - loss: 0.3329 - mean_absolute_error: 0.3473 - val_loss: 496.6138 - val_mean_absolute_error: 15.1304\n",
            "Epoch 77/100\n",
            "232/232 [==============================] - 1s 4ms/step - loss: 0.3001 - mean_absolute_error: 0.3193 - val_loss: 484.6863 - val_mean_absolute_error: 14.7769\n",
            "Epoch 78/100\n",
            "232/232 [==============================] - 1s 4ms/step - loss: 0.2858 - mean_absolute_error: 0.3109 - val_loss: 473.0031 - val_mean_absolute_error: 14.5155\n",
            "Epoch 79/100\n",
            "232/232 [==============================] - 1s 4ms/step - loss: 0.2877 - mean_absolute_error: 0.3112 - val_loss: 445.0972 - val_mean_absolute_error: 13.8172\n",
            "Epoch 80/100\n",
            "232/232 [==============================] - 1s 4ms/step - loss: 0.3034 - mean_absolute_error: 0.3217 - val_loss: 455.2318 - val_mean_absolute_error: 14.0440\n",
            "Epoch 81/100\n",
            "232/232 [==============================] - 1s 4ms/step - loss: 0.3060 - mean_absolute_error: 0.3246 - val_loss: 467.9659 - val_mean_absolute_error: 14.5701\n",
            "Epoch 82/100\n",
            "232/232 [==============================] - 1s 4ms/step - loss: 0.3086 - mean_absolute_error: 0.3299 - val_loss: 526.5329 - val_mean_absolute_error: 16.1468\n",
            "Epoch 83/100\n",
            "232/232 [==============================] - 1s 4ms/step - loss: 0.3005 - mean_absolute_error: 0.3166 - val_loss: 487.9471 - val_mean_absolute_error: 14.9814\n",
            "Epoch 84/100\n",
            "232/232 [==============================] - 1s 4ms/step - loss: 0.2868 - mean_absolute_error: 0.3089 - val_loss: 465.3158 - val_mean_absolute_error: 14.4400\n",
            "Epoch 85/100\n",
            "232/232 [==============================] - 1s 4ms/step - loss: 0.3191 - mean_absolute_error: 0.3306 - val_loss: 462.6306 - val_mean_absolute_error: 14.4805\n",
            "Epoch 86/100\n",
            "232/232 [==============================] - 1s 4ms/step - loss: 0.2938 - mean_absolute_error: 0.3126 - val_loss: 453.0411 - val_mean_absolute_error: 14.1806\n",
            "Epoch 87/100\n",
            "232/232 [==============================] - 1s 4ms/step - loss: 0.2878 - mean_absolute_error: 0.3077 - val_loss: 454.2110 - val_mean_absolute_error: 14.1964\n",
            "Epoch 88/100\n",
            "232/232 [==============================] - 1s 4ms/step - loss: 0.2866 - mean_absolute_error: 0.3072 - val_loss: 443.4130 - val_mean_absolute_error: 13.9320\n",
            "Epoch 89/100\n",
            "232/232 [==============================] - 1s 4ms/step - loss: 0.3046 - mean_absolute_error: 0.3226 - val_loss: 465.5966 - val_mean_absolute_error: 14.5067\n",
            "Epoch 90/100\n",
            "232/232 [==============================] - 1s 4ms/step - loss: 0.3214 - mean_absolute_error: 0.3342 - val_loss: 447.5330 - val_mean_absolute_error: 14.0657\n",
            "Epoch 91/100\n",
            "232/232 [==============================] - 1s 4ms/step - loss: 0.2943 - mean_absolute_error: 0.3160 - val_loss: 434.7921 - val_mean_absolute_error: 13.6832\n",
            "Epoch 92/100\n",
            "232/232 [==============================] - 1s 4ms/step - loss: 0.2880 - mean_absolute_error: 0.3086 - val_loss: 445.9365 - val_mean_absolute_error: 13.9854\n",
            "Epoch 93/100\n",
            "232/232 [==============================] - 1s 4ms/step - loss: 0.2840 - mean_absolute_error: 0.3069 - val_loss: 452.1191 - val_mean_absolute_error: 14.2230\n",
            "Epoch 94/100\n",
            "232/232 [==============================] - 1s 4ms/step - loss: 0.3051 - mean_absolute_error: 0.3218 - val_loss: 462.1650 - val_mean_absolute_error: 14.6424\n",
            "Epoch 95/100\n",
            "232/232 [==============================] - 1s 4ms/step - loss: 0.2861 - mean_absolute_error: 0.3059 - val_loss: 442.4987 - val_mean_absolute_error: 13.9242\n",
            "Epoch 96/100\n",
            "232/232 [==============================] - 1s 4ms/step - loss: 0.2957 - mean_absolute_error: 0.3147 - val_loss: 438.4927 - val_mean_absolute_error: 13.8481\n",
            "Epoch 97/100\n",
            "232/232 [==============================] - 1s 4ms/step - loss: 0.2887 - mean_absolute_error: 0.3086 - val_loss: 438.1138 - val_mean_absolute_error: 13.8880\n",
            "Epoch 98/100\n",
            "232/232 [==============================] - 1s 4ms/step - loss: 0.2862 - mean_absolute_error: 0.3097 - val_loss: 437.9614 - val_mean_absolute_error: 13.9618\n",
            "Epoch 99/100\n",
            "232/232 [==============================] - 1s 4ms/step - loss: 0.3036 - mean_absolute_error: 0.3231 - val_loss: 450.8394 - val_mean_absolute_error: 14.3459\n",
            "Epoch 100/100\n",
            "232/232 [==============================] - 1s 4ms/step - loss: 0.3018 - mean_absolute_error: 0.3217 - val_loss: 437.3457 - val_mean_absolute_error: 13.9957\n"
          ]
        },
        {
          "output_type": "execute_result",
          "data": {
            "text/plain": [
              "<keras.callbacks.History at 0x7f7ded07d370>"
            ]
          },
          "metadata": {},
          "execution_count": 15
        }
      ]
    },
    {
      "cell_type": "code",
      "source": [],
      "metadata": {
        "id": "RrtxBgsjTRtH"
      },
      "execution_count": null,
      "outputs": []
    },
    {
      "cell_type": "code",
      "source": [
        "train_predictions = model.predict(X_train).flatten()\n",
        "\n",
        "plt.plot(dates_train, train_predictions)\n",
        "plt.plot(dates_train, y_train)\n",
        "plt.legend(['Training Predictions', 'Training Observations'])"
      ],
      "metadata": {
        "colab": {
          "base_uri": "https://localhost:8080/",
          "height": 283
        },
        "id": "gG8eOTzEVl_X",
        "outputId": "93b02019-ae45-4c66-b604-835458210dfb"
      },
      "execution_count": null,
      "outputs": [
        {
          "output_type": "execute_result",
          "data": {
            "text/plain": [
              "<matplotlib.legend.Legend at 0x7feee25003d0>"
            ]
          },
          "metadata": {},
          "execution_count": 28
        },
        {
          "output_type": "display_data",
          "data": {
            "text/plain": [
              "<Figure size 432x288 with 1 Axes>"
            ],
            "image/png": "[encoded data removed]"
          },
          "metadata": {
            "needs_background": "light"
          }
        }
      ]
    },
    {
      "cell_type": "code",
      "source": [
        "train_predictions = model.predict(X_train).flatten()\n",
        "\n",
        "plt.plot(dates_train, train_predictions)\n",
        "plt.plot(dates_train, y_train)\n",
        "plt.legend(['Training Predictions', 'Training Observations'])"
      ],
      "metadata": {
        "colab": {
          "base_uri": "https://localhost:8080/",
          "height": 300
        },
        "outputId": "ca232748-ea63-4a2d-c9ef-0481b2454de1",
        "id": "ue8Y-nMoTWY1"
      },
      "execution_count": 16,
      "outputs": [
        {
          "output_type": "stream",
          "name": "stdout",
          "text": [
            "232/232 [==============================] - 1s 2ms/step\n"
          ]
        },
        {
          "output_type": "execute_result",
          "data": {
            "text/plain": [
              "<matplotlib.legend.Legend at 0x7f7dece8f790>"
            ]
          },
          "metadata": {},
          "execution_count": 16
        },
        {
          "output_type": "display_data",
          "data": {
            "text/plain": [
              "<Figure size 432x288 with 1 Axes>"
            ],
            "image/png": "[encoded data removed]"
          },
          "metadata": {
            "needs_background": "light"
          }
        }
      ]
    },
    {
      "cell_type": "code",
      "source": [],
      "metadata": {
        "id": "7K6glueITnb_"
      },
      "execution_count": null,
      "outputs": []
    },
    {
      "cell_type": "code",
      "source": [
        "val_predictions = model.predict(X_val).flatten()\n",
        "\n",
        "plt.plot(dates_val, val_predictions)\n",
        "plt.plot(dates_val, y_val)\n",
        "plt.legend(['Validation Predictions', 'Validation Observations'])"
      ],
      "metadata": {
        "colab": {
          "base_uri": "https://localhost:8080/",
          "height": 300
        },
        "id": "UrRaAUbnWBhE",
        "outputId": "f222c129-293a-4c27-fcec-b8362b771059"
      },
      "execution_count": 17,
      "outputs": [
        {
          "output_type": "stream",
          "name": "stdout",
          "text": [
            "29/29 [==============================] - 0s 2ms/step\n"
          ]
        },
        {
          "output_type": "execute_result",
          "data": {
            "text/plain": [
              "<matplotlib.legend.Legend at 0x7f7decd5b400>"
            ]
          },
          "metadata": {},
          "execution_count": 17
        },
        {
          "output_type": "display_data",
          "data": {
            "text/plain": [
              "<Figure size 432x288 with 1 Axes>"
            ],
            "image/png": "[encoded data removed]"
          },
          "metadata": {
            "needs_background": "light"
          }
        }
      ]
    },
    {
      "cell_type": "code",
      "source": [],
      "metadata": {
        "id": "S05IsHc0UBIT"
      },
      "execution_count": null,
      "outputs": []
    },
    {
      "cell_type": "code",
      "source": [
        "test_predictions = model.predict(X_test).flatten()\n",
        "\n",
        "plt.plot(dates_test, test_predictions)\n",
        "plt.plot(dates_test, y_test)\n",
        "plt.legend(['Testing Predictions', 'Testing Observations'])"
      ],
      "metadata": {
        "colab": {
          "base_uri": "https://localhost:8080/",
          "height": 300
        },
        "id": "wF5sDSxVWLFd",
        "outputId": "b302a25b-8e5d-4224-9f27-6df68b7e4678"
      },
      "execution_count": 18,
      "outputs": [
        {
          "output_type": "stream",
          "name": "stdout",
          "text": [
            "29/29 [==============================] - 0s 2ms/step\n"
          ]
        },
        {
          "output_type": "execute_result",
          "data": {
            "text/plain": [
              "<matplotlib.legend.Legend at 0x7f7decd40dc0>"
            ]
          },
          "metadata": {},
          "execution_count": 18
        },
        {
          "output_type": "display_data",
          "data": {
            "text/plain": [
              "<Figure size 432x288 with 1 Axes>"
            ],
            "image/png": "[encoded data removed]"
          },
          "metadata": {
            "needs_background": "light"
          }
        }
      ]
    },
    {
      "cell_type": "code",
      "source": [],
      "metadata": {
        "id": "UInOMGN6UFad"
      },
      "execution_count": null,
      "outputs": []
    },
    {
      "cell_type": "code",
      "source": [
        "plt.plot(dates_train, train_predictions)\n",
        "plt.plot(dates_train, y_train)\n",
        "plt.plot(dates_val, val_predictions)\n",
        "plt.plot(dates_val, y_val)\n",
        "plt.plot(dates_test, test_predictions)\n",
        "plt.plot(dates_test, y_test)\n",
        "plt.legend(['Training Predictions', \n",
        "            'Training Observations',\n",
        "            'Validation Predictions', \n",
        "            'Validation Observations',\n",
        "            'Testing Predictions', \n",
        "            'Testing Observations'])"
      ],
      "metadata": {
        "colab": {
          "base_uri": "https://localhost:8080/",
          "height": 282
        },
        "id": "8b-JsTvEWfAm",
        "outputId": "14eb8dc4-175e-4098-e242-be1ceedade95"
      },
      "execution_count": 19,
      "outputs": [
        {
          "output_type": "execute_result",
          "data": {
            "text/plain": [
              "<matplotlib.legend.Legend at 0x7f7deccde880>"
            ]
          },
          "metadata": {},
          "execution_count": 19
        },
        {
          "output_type": "display_data",
          "data": {
            "text/plain": [
              "<Figure size 432x288 with 1 Axes>"
            ],
            "image/png": "[encoded data removed]"
          },
          "metadata": {
            "needs_background": "light"
          }
        }
      ]
    },
    {
      "cell_type": "code",
      "source": [
        "# as able to see our model could not do well in extrapolating, but works almost well before the rise in the graph , we will train it on the data where it could not match the rising pattern\n"
      ],
      "metadata": {
        "id": "6D967aL8VUCy"
      },
      "execution_count": null,
      "outputs": []
    },
    {
      "cell_type": "code",
      "source": [
        "# Start day second time around: '2021-03-25'\n",
        "windowed_df = df_to_windowed_df(df, \n",
        "                                '2021-03-25', \n",
        "                                '2022-03-23', \n",
        "                                n=3)\n",
        "windowed_df"
      ],
      "metadata": {
        "colab": {
          "base_uri": "https://localhost:8080/",
          "height": 424
        },
        "id": "TdL7B-w0V9xv",
        "outputId": "97b95943-6329-4bb7-ef6a-dacde72683cb"
      },
      "execution_count": 22,
      "outputs": [
        {
          "output_type": "execute_result",
          "data": {
            "text/plain": [
              "    Target Date    Target-3    Target-2    Target-1      Target\n",
              "0    2021-03-25  235.990005  237.580002  235.460007  232.339996\n",
              "1    2021-03-26  237.580002  235.460007  232.339996  236.479996\n",
              "2    2021-03-29  235.460007  232.339996  236.479996  235.240005\n",
              "3    2021-03-30  232.339996  236.479996  235.240005  231.850006\n",
              "4    2021-03-31  236.479996  235.240005  231.850006  235.770004\n",
              "..          ...         ...         ...         ...         ...\n",
              "247  2022-03-17  276.440002  287.149994  294.390015  295.220001\n",
              "248  2022-03-18  287.149994  294.390015  295.220001  300.429993\n",
              "249  2022-03-21  294.390015  295.220001  300.429993  299.160004\n",
              "250  2022-03-22  295.220001  300.429993  299.160004  304.059998\n",
              "251  2022-03-23  300.429993  299.160004  304.059998  299.489990\n",
              "\n",
              "[252 rows x 5 columns]"
            ],
            "text/html": [
              "\n",
              "  <div id=\"df-f5493a79-9f75-4106-9f5b-b281b271f1be\">\n",
              "    <div class=\"colab-df-container\">\n",
              "      <div>\n",
              "<style scoped>\n",
              "    .dataframe tbody tr th:only-of-type {\n",
              "        vertical-align: middle;\n",
              "    }\n",
              "\n",
              "    .dataframe tbody tr th {\n",
              "        vertical-align: top;\n",
              "    }\n",
              "\n",
              "    .dataframe thead th {\n",
              "        text-align: right;\n",
              "    }\n",
              "</style>\n",
              "<table border=\"1\" class=\"dataframe\">\n",
              "  <thead>\n",
              "    <tr style=\"text-align: right;\">\n",
              "      <th></th>\n",
              "      <th>Target Date</th>\n",
              "      <th>Target-3</th>\n",
              "      <th>Target-2</th>\n",
              "      <th>Target-1</th>\n",
              "      <th>Target</th>\n",
              "    </tr>\n",
              "  </thead>\n",
              "  <tbody>\n",
              "    <tr>\n",
              "      <th>0</th>\n",
              "      <td>2021-03-25</td>\n",
              "      <td>235.990005</td>\n",
              "      <td>237.580002</td>\n",
              "      <td>235.460007</td>\n",
              "      <td>232.339996</td>\n",
              "    </tr>\n",
              "    <tr>\n",
              "      <th>1</th>\n",
              "      <td>2021-03-26</td>\n",
              "      <td>237.580002</td>\n",
              "      <td>235.460007</td>\n",
              "      <td>232.339996</td>\n",
              "      <td>236.479996</td>\n",
              "    </tr>\n",
              "    <tr>\n",
              "      <th>2</th>\n",
              "      <td>2021-03-29</td>\n",
              "      <td>235.460007</td>\n",
              "      <td>232.339996</td>\n",
              "      <td>236.479996</td>\n",
              "      <td>235.240005</td>\n",
              "    </tr>\n",
              "    <tr>\n",
              "      <th>3</th>\n",
              "      <td>2021-03-30</td>\n",
              "      <td>232.339996</td>\n",
              "      <td>236.479996</td>\n",
              "      <td>235.240005</td>\n",
              "      <td>231.850006</td>\n",
              "    </tr>\n",
              "    <tr>\n",
              "      <th>4</th>\n",
              "      <td>2021-03-31</td>\n",
              "      <td>236.479996</td>\n",
              "      <td>235.240005</td>\n",
              "      <td>231.850006</td>\n",
              "      <td>235.770004</td>\n",
              "    </tr>\n",
              "    <tr>\n",
              "      <th>...</th>\n",
              "      <td>...</td>\n",
              "      <td>...</td>\n",
              "      <td>...</td>\n",
              "      <td>...</td>\n",
              "      <td>...</td>\n",
              "    </tr>\n",
              "    <tr>\n",
              "      <th>247</th>\n",
              "      <td>2022-03-17</td>\n",
              "      <td>276.440002</td>\n",
              "      <td>287.149994</td>\n",
              "      <td>294.390015</td>\n",
              "      <td>295.220001</td>\n",
              "    </tr>\n",
              "    <tr>\n",
              "      <th>248</th>\n",
              "      <td>2022-03-18</td>\n",
              "      <td>287.149994</td>\n",
              "      <td>294.390015</td>\n",
              "      <td>295.220001</td>\n",
              "      <td>300.429993</td>\n",
              "    </tr>\n",
              "    <tr>\n",
              "      <th>249</th>\n",
              "      <td>2022-03-21</td>\n",
              "      <td>294.390015</td>\n",
              "      <td>295.220001</td>\n",
              "      <td>300.429993</td>\n",
              "      <td>299.160004</td>\n",
              "    </tr>\n",
              "    <tr>\n",
              "      <th>250</th>\n",
              "      <td>2022-03-22</td>\n",
              "      <td>295.220001</td>\n",
              "      <td>300.429993</td>\n",
              "      <td>299.160004</td>\n",
              "      <td>304.059998</td>\n",
              "    </tr>\n",
              "    <tr>\n",
              "      <th>251</th>\n",
              "      <td>2022-03-23</td>\n",
              "      <td>300.429993</td>\n",
              "      <td>299.160004</td>\n",
              "      <td>304.059998</td>\n",
              "      <td>299.489990</td>\n",
              "    </tr>\n",
              "  </tbody>\n",
              "</table>\n",
              "<p>252 rows × 5 columns</p>\n",
              "</div>\n",
              "      <button class=\"colab-df-convert\" onclick=\"convertToInteractive('df-f5493a79-9f75-4106-9f5b-b281b271f1be')\"\n",
              "              title=\"Convert this dataframe to an interactive table.\"\n",
              "              style=\"display:none;\">\n",
              "        \n",
              "  <svg xmlns=\"http://www.w3.org/2000/svg\" height=\"24px\"viewBox=\"0 0 24 24\"\n",
              "       width=\"24px\">\n",
              "    <path d=\"M0 0h24v24H0V0z\" fill=\"none\"/>\n",
              "    <path d=\"M18.56 5.44l.94 2.06.94-2.06 2.06-.94-2.06-.94-.94-2.06-.94 2.06-2.06.94zm-11 1L8.5 8.5l.94-2.06 2.06-.94-2.06-.94L8.5 2.5l-.94 2.06-2.06.94zm10 10l.94 2.06.94-2.06 2.06-.94-2.06-.94-.94-2.06-.94 2.06-2.06.94z\"/><path d=\"M17.41 7.96l-1.37-1.37c-.4-.4-.92-.59-1.43-.59-.52 0-1.04.2-1.43.59L10.3 9.45l-7.72 7.72c-.78.78-.78 2.05 0 2.83L4 21.41c.39.39.9.59 1.41.59.51 0 1.02-.2 1.41-.59l7.78-7.78 2.81-2.81c.8-.78.8-2.07 0-2.86zM5.41 20L4 18.59l7.72-7.72 1.47 1.35L5.41 20z\"/>\n",
              "  </svg>\n",
              "      </button>\n",
              "      \n",
              "  <style>\n",
              "    .colab-df-container {\n",
              "      display:flex;\n",
              "      flex-wrap:wrap;\n",
              "      gap: 12px;\n",
              "    }\n",
              "\n",
              "    .colab-df-convert {\n",
              "      background-color: #E8F0FE;\n",
              "      border: none;\n",
              "      border-radius: 50%;\n",
              "      cursor: pointer;\n",
              "      display: none;\n",
              "      fill: #1967D2;\n",
              "      height: 32px;\n",
              "      padding: 0 0 0 0;\n",
              "      width: 32px;\n",
              "    }\n",
              "\n",
              "    .colab-df-convert:hover {\n",
              "      background-color: #E2EBFA;\n",
              "      box-shadow: 0px 1px 2px rgba(60, 64, 67, 0.3), 0px 1px 3px 1px rgba(60, 64, 67, 0.15);\n",
              "      fill: #174EA6;\n",
              "    }\n",
              "\n",
              "    [theme=dark] .colab-df-convert {\n",
              "      background-color: #3B4455;\n",
              "      fill: #D2E3FC;\n",
              "    }\n",
              "\n",
              "    [theme=dark] .colab-df-convert:hover {\n",
              "      background-color: #434B5C;\n",
              "      box-shadow: 0px 1px 3px 1px rgba(0, 0, 0, 0.15);\n",
              "      filter: drop-shadow(0px 1px 2px rgba(0, 0, 0, 0.3));\n",
              "      fill: #FFFFFF;\n",
              "    }\n",
              "  </style>\n",
              "\n",
              "      <script>\n",
              "        const buttonEl =\n",
              "          document.querySelector('#df-f5493a79-9f75-4106-9f5b-b281b271f1be button.colab-df-convert');\n",
              "        buttonEl.style.display =\n",
              "          google.colab.kernel.accessAllowed ? 'block' : 'none';\n",
              "\n",
              "        async function convertToInteractive(key) {\n",
              "          const element = document.querySelector('#df-f5493a79-9f75-4106-9f5b-b281b271f1be');\n",
              "          const dataTable =\n",
              "            await google.colab.kernel.invokeFunction('convertToInteractive',\n",
              "                                                     [key], {});\n",
              "          if (!dataTable) return;\n",
              "\n",
              "          const docLinkHtml = 'Like what you see? Visit the ' +\n",
              "            '<a target=\"_blank\" href=https://colab.research.google.com/notebooks/data_table.ipynb>data table notebook</a>'\n",
              "            + ' to learn more about interactive tables.';\n",
              "          element.innerHTML = '';\n",
              "          dataTable['output_type'] = 'display_data';\n",
              "          await google.colab.output.renderOutput(dataTable, element);\n",
              "          const docLink = document.createElement('div');\n",
              "          docLink.innerHTML = docLinkHtml;\n",
              "          element.appendChild(docLink);\n",
              "        }\n",
              "      </script>\n",
              "    </div>\n",
              "  </div>\n",
              "  "
            ]
          },
          "metadata": {},
          "execution_count": 22
        }
      ]
    },
    {
      "cell_type": "code",
      "source": [
        "def windowed_df_to_date_X_y(windowed_dataframe):\n",
        "  df_as_np = windowed_dataframe.to_numpy()\n",
        "\n",
        "  dates = df_as_np[:, 0]\n",
        "\n",
        "  middle_matrix = df_as_np[:, 1:-1]\n",
        "  X = middle_matrix.reshape((len(dates), middle_matrix.shape[1], 1))\n",
        "\n",
        "  Y = df_as_np[:, -1]\n",
        "\n",
        "  return dates, X.astype(np.float32), Y.astype(np.float32)\n",
        "\n",
        "dates, X, y = windowed_df_to_date_X_y(windowed_df)\n",
        "\n",
        "dates.shape, X.shape, y.shape"
      ],
      "metadata": {
        "colab": {
          "base_uri": "https://localhost:8080/"
        },
        "outputId": "2f4664df-8497-421a-bd7a-1cbee55fbe70",
        "id": "01pROxBxWtdF"
      },
      "execution_count": 23,
      "outputs": [
        {
          "output_type": "execute_result",
          "data": {
            "text/plain": [
              "((252,), (252, 3, 1), (252,))"
            ]
          },
          "metadata": {},
          "execution_count": 23
        }
      ]
    },
    {
      "cell_type": "code",
      "source": [],
      "metadata": {
        "id": "6M1-zAzAWxan"
      },
      "execution_count": null,
      "outputs": []
    },
    {
      "cell_type": "code",
      "source": [
        "q_80 = int(len(dates) * .8)\n",
        "q_90 = int(len(dates) * .9)\n",
        "\n",
        "dates_train, X_train, y_train = dates[:q_80], X[:q_80], y[:q_80]\n",
        "\n",
        "dates_val, X_val, y_val = dates[q_80:q_90], X[q_80:q_90], y[q_80:q_90]\n",
        "dates_test, X_test, y_test = dates[q_90:], X[q_90:], y[q_90:]\n",
        "\n",
        "plt.plot(dates_train, y_train)\n",
        "plt.plot(dates_val, y_val)\n",
        "plt.plot(dates_test, y_test)\n",
        "\n",
        "plt.legend(['Train', 'Validation', 'Test'])"
      ],
      "metadata": {
        "colab": {
          "base_uri": "https://localhost:8080/",
          "height": 282
        },
        "outputId": "9636c05d-530b-4c2c-d356-c025d30e8b51",
        "id": "pvcv7lBpW3_Y"
      },
      "execution_count": 24,
      "outputs": [
        {
          "output_type": "execute_result",
          "data": {
            "text/plain": [
              "<matplotlib.legend.Legend at 0x7f7decc68910>"
            ]
          },
          "metadata": {},
          "execution_count": 24
        },
        {
          "output_type": "display_data",
          "data": {
            "text/plain": [
              "<Figure size 432x288 with 1 Axes>"
            ],
            "image/png": "[encoded data removed]"
          },
          "metadata": {
            "needs_background": "light"
          }
        }
      ]
    },
    {
      "cell_type": "code",
      "source": [],
      "metadata": {
        "id": "6LDVA-H8W-za"
      },
      "execution_count": null,
      "outputs": []
    },
    {
      "cell_type": "code",
      "source": [
        "from tensorflow.keras.models import Sequential\n",
        "from tensorflow.keras.optimizers import Adam\n",
        "from tensorflow.keras import layers\n",
        "\n",
        "model = Sequential([layers.Input((3, 1)),\n",
        "                    layers.LSTM(64),\n",
        "                    layers.Dense(32, activation='relu'),\n",
        "                    layers.Dense(32, activation='relu'),\n",
        "                    layers.Dense(1)])\n",
        "\n",
        "model.compile(loss='mse', \n",
        "              optimizer=Adam(learning_rate=0.001),\n",
        "              metrics=['mean_absolute_error'])\n",
        "\n",
        "model.fit(X_train, y_train, validation_data=(X_val, y_val), epochs=100)"
      ],
      "metadata": {
        "colab": {
          "base_uri": "https://localhost:8080/"
        },
        "outputId": "a6046b39-c33f-4115-ec4d-10b6f6d19b49",
        "id": "rn5afNmdXDAQ"
      },
      "execution_count": 25,
      "outputs": [
        {
          "output_type": "stream",
          "name": "stdout",
          "text": [
            "Epoch 1/100\n",
            "7/7 [==============================] - 2s 86ms/step - loss: 84516.5312 - mean_absolute_error: 288.9745 - val_loss: 92165.1719 - val_mean_absolute_error: 303.4999\n",
            "Epoch 2/100\n",
            "7/7 [==============================] - 0s 7ms/step - loss: 84209.7500 - mean_absolute_error: 288.4461 - val_loss: 91807.3125 - val_mean_absolute_error: 302.9098\n",
            "Epoch 3/100\n",
            "7/7 [==============================] - 0s 10ms/step - loss: 83838.8359 - mean_absolute_error: 287.7999 - val_loss: 91349.1484 - val_mean_absolute_error: 302.1525\n",
            "Epoch 4/100\n",
            "7/7 [==============================] - 0s 7ms/step - loss: 83320.5000 - mean_absolute_error: 286.8956 - val_loss: 90645.7266 - val_mean_absolute_error: 300.9863\n",
            "Epoch 5/100\n",
            "7/7 [==============================] - 0s 7ms/step - loss: 82597.8203 - mean_absolute_error: 285.6339 - val_loss: 89806.3594 - val_mean_absolute_error: 299.5887\n",
            "Epoch 6/100\n",
            "7/7 [==============================] - 0s 7ms/step - loss: 81697.4609 - mean_absolute_error: 284.0489 - val_loss: 88665.5000 - val_mean_absolute_error: 297.6785\n",
            "Epoch 7/100\n",
            "7/7 [==============================] - 0s 7ms/step - loss: 80483.1641 - mean_absolute_error: 281.9051 - val_loss: 87143.9766 - val_mean_absolute_error: 295.1118\n",
            "Epoch 8/100\n",
            "7/7 [==============================] - 0s 7ms/step - loss: 78933.5391 - mean_absolute_error: 279.1437 - val_loss: 85431.9219 - val_mean_absolute_error: 292.1968\n",
            "Epoch 9/100\n",
            "7/7 [==============================] - 0s 7ms/step - loss: 77301.3906 - mean_absolute_error: 276.2202 - val_loss: 83628.6875 - val_mean_absolute_error: 289.0946\n",
            "Epoch 10/100\n",
            "7/7 [==============================] - 0s 7ms/step - loss: 75466.3438 - mean_absolute_error: 272.8642 - val_loss: 81415.6719 - val_mean_absolute_error: 285.2414\n",
            "Epoch 11/100\n",
            "7/7 [==============================] - 0s 8ms/step - loss: 73189.5938 - mean_absolute_error: 268.6284 - val_loss: 78603.4688 - val_mean_absolute_error: 280.2682\n",
            "Epoch 12/100\n",
            "7/7 [==============================] - 0s 12ms/step - loss: 70005.3594 - mean_absolute_error: 262.6527 - val_loss: 74737.6328 - val_mean_absolute_error: 273.2850\n",
            "Epoch 13/100\n",
            "7/7 [==============================] - 0s 11ms/step - loss: 66524.5547 - mean_absolute_error: 255.9601 - val_loss: 71030.0547 - val_mean_absolute_error: 266.4150\n",
            "Epoch 14/100\n",
            "7/7 [==============================] - 0s 14ms/step - loss: 62687.1641 - mean_absolute_error: 248.3043 - val_loss: 66231.4922 - val_mean_absolute_error: 257.2516\n",
            "Epoch 15/100\n",
            "7/7 [==============================] - 0s 11ms/step - loss: 57675.5859 - mean_absolute_error: 238.0009 - val_loss: 60287.5469 - val_mean_absolute_error: 245.4272\n",
            "Epoch 16/100\n",
            "7/7 [==============================] - 0s 10ms/step - loss: 52164.3867 - mean_absolute_error: 226.1283 - val_loss: 54566.0898 - val_mean_absolute_error: 233.4801\n",
            "Epoch 17/100\n",
            "7/7 [==============================] - 0s 11ms/step - loss: 46493.8047 - mean_absolute_error: 213.1954 - val_loss: 47827.1953 - val_mean_absolute_error: 218.5727\n",
            "Epoch 18/100\n",
            "7/7 [==============================] - 0s 12ms/step - loss: 40096.9062 - mean_absolute_error: 197.5565 - val_loss: 41029.2617 - val_mean_absolute_error: 202.4259\n",
            "Epoch 19/100\n",
            "7/7 [==============================] - 0s 12ms/step - loss: 33811.6680 - mean_absolute_error: 180.9129 - val_loss: 33836.8047 - val_mean_absolute_error: 183.8023\n",
            "Epoch 20/100\n",
            "7/7 [==============================] - 0s 12ms/step - loss: 26850.1445 - mean_absolute_error: 160.6319 - val_loss: 26300.1367 - val_mean_absolute_error: 162.0089\n",
            "Epoch 21/100\n",
            "7/7 [==============================] - 0s 11ms/step - loss: 20371.8496 - mean_absolute_error: 139.0018 - val_loss: 19930.1816 - val_mean_absolute_error: 140.9866\n",
            "Epoch 22/100\n",
            "7/7 [==============================] - 0s 11ms/step - loss: 15025.2715 - mean_absolute_error: 118.1750 - val_loss: 14384.6484 - val_mean_absolute_error: 119.7150\n",
            "Epoch 23/100\n",
            "7/7 [==============================] - 0s 10ms/step - loss: 10372.0439 - mean_absolute_error: 96.7386 - val_loss: 9757.9990 - val_mean_absolute_error: 98.5142\n",
            "Epoch 24/100\n",
            "7/7 [==============================] - 0s 11ms/step - loss: 6790.3135 - mean_absolute_error: 75.8746 - val_loss: 6179.9580 - val_mean_absolute_error: 78.2751\n",
            "Epoch 25/100\n",
            "7/7 [==============================] - 0s 10ms/step - loss: 4216.8296 - mean_absolute_error: 56.3202 - val_loss: 3636.1125 - val_mean_absolute_error: 59.8594\n",
            "Epoch 26/100\n",
            "7/7 [==============================] - 0s 10ms/step - loss: 2536.2205 - mean_absolute_error: 40.8640 - val_loss: 2008.6317 - val_mean_absolute_error: 44.2229\n",
            "Epoch 27/100\n",
            "7/7 [==============================] - 0s 10ms/step - loss: 1593.4396 - mean_absolute_error: 32.6052 - val_loss: 1065.5269 - val_mean_absolute_error: 31.8208\n",
            "Epoch 28/100\n",
            "7/7 [==============================] - 0s 14ms/step - loss: 1192.5497 - mean_absolute_error: 29.2193 - val_loss: 561.9890 - val_mean_absolute_error: 22.5616\n",
            "Epoch 29/100\n",
            "7/7 [==============================] - 0s 10ms/step - loss: 1052.1978 - mean_absolute_error: 27.6091 - val_loss: 326.7186 - val_mean_absolute_error: 16.5455\n",
            "Epoch 30/100\n",
            "7/7 [==============================] - 0s 10ms/step - loss: 1010.6194 - mean_absolute_error: 26.8621 - val_loss: 236.2775 - val_mean_absolute_error: 13.7140\n",
            "Epoch 31/100\n",
            "7/7 [==============================] - 0s 10ms/step - loss: 1012.2424 - mean_absolute_error: 26.9118 - val_loss: 206.6699 - val_mean_absolute_error: 12.6638\n",
            "Epoch 32/100\n",
            "7/7 [==============================] - 0s 10ms/step - loss: 1016.4869 - mean_absolute_error: 26.9391 - val_loss: 195.6973 - val_mean_absolute_error: 12.2491\n",
            "Epoch 33/100\n",
            "7/7 [==============================] - 0s 10ms/step - loss: 1018.7195 - mean_absolute_error: 26.9710 - val_loss: 197.0130 - val_mean_absolute_error: 12.2997\n",
            "Epoch 34/100\n",
            "7/7 [==============================] - 0s 10ms/step - loss: 1017.4083 - mean_absolute_error: 26.9645 - val_loss: 222.2991 - val_mean_absolute_error: 13.2296\n",
            "Epoch 35/100\n",
            "7/7 [==============================] - 0s 9ms/step - loss: 1012.9279 - mean_absolute_error: 26.9096 - val_loss: 233.8329 - val_mean_absolute_error: 13.6306\n",
            "Epoch 36/100\n",
            "7/7 [==============================] - 0s 10ms/step - loss: 1011.2971 - mean_absolute_error: 26.8884 - val_loss: 257.8646 - val_mean_absolute_error: 14.4270\n",
            "Epoch 37/100\n",
            "7/7 [==============================] - 0s 10ms/step - loss: 1010.2980 - mean_absolute_error: 26.8564 - val_loss: 270.1650 - val_mean_absolute_error: 14.8165\n",
            "Epoch 38/100\n",
            "7/7 [==============================] - 0s 11ms/step - loss: 1010.7460 - mean_absolute_error: 26.8633 - val_loss: 277.1280 - val_mean_absolute_error: 15.0321\n",
            "Epoch 39/100\n",
            "7/7 [==============================] - 0s 10ms/step - loss: 1009.7493 - mean_absolute_error: 26.8536 - val_loss: 270.8899 - val_mean_absolute_error: 14.8391\n",
            "Epoch 40/100\n",
            "7/7 [==============================] - 0s 10ms/step - loss: 1009.9136 - mean_absolute_error: 26.8513 - val_loss: 264.6046 - val_mean_absolute_error: 14.6418\n",
            "Epoch 41/100\n",
            "7/7 [==============================] - 0s 10ms/step - loss: 1010.5829 - mean_absolute_error: 26.8760 - val_loss: 257.9801 - val_mean_absolute_error: 14.4307\n",
            "Epoch 42/100\n",
            "7/7 [==============================] - 0s 10ms/step - loss: 1011.0781 - mean_absolute_error: 26.8789 - val_loss: 256.2319 - val_mean_absolute_error: 14.3744\n",
            "Epoch 43/100\n",
            "7/7 [==============================] - 0s 10ms/step - loss: 1009.8620 - mean_absolute_error: 26.8617 - val_loss: 269.2926 - val_mean_absolute_error: 14.7893\n",
            "Epoch 44/100\n",
            "7/7 [==============================] - 0s 13ms/step - loss: 1007.1928 - mean_absolute_error: 26.8345 - val_loss: 302.3304 - val_mean_absolute_error: 15.7952\n",
            "Epoch 45/100\n",
            "7/7 [==============================] - 0s 10ms/step - loss: 1007.3590 - mean_absolute_error: 26.8314 - val_loss: 293.5090 - val_mean_absolute_error: 15.5287\n",
            "Epoch 46/100\n",
            "7/7 [==============================] - 0s 11ms/step - loss: 1006.8690 - mean_absolute_error: 26.8265 - val_loss: 303.4708 - val_mean_absolute_error: 15.8328\n",
            "Epoch 47/100\n",
            "7/7 [==============================] - 0s 7ms/step - loss: 1007.6361 - mean_absolute_error: 26.8319 - val_loss: 288.1441 - val_mean_absolute_error: 15.3728\n",
            "Epoch 48/100\n",
            "7/7 [==============================] - 0s 9ms/step - loss: 986.1955 - mean_absolute_error: 26.5343 - val_loss: 325.6066 - val_mean_absolute_error: 16.5591\n",
            "Epoch 49/100\n",
            "7/7 [==============================] - 0s 7ms/step - loss: 946.9355 - mean_absolute_error: 26.0993 - val_loss: 301.8312 - val_mean_absolute_error: 15.8483\n",
            "Epoch 50/100\n",
            "7/7 [==============================] - 0s 7ms/step - loss: 918.6793 - mean_absolute_error: 25.6025 - val_loss: 366.5003 - val_mean_absolute_error: 17.8249\n",
            "Epoch 51/100\n",
            "7/7 [==============================] - 0s 7ms/step - loss: 879.1473 - mean_absolute_error: 25.0613 - val_loss: 321.5370 - val_mean_absolute_error: 16.5422\n",
            "Epoch 52/100\n",
            "7/7 [==============================] - 0s 7ms/step - loss: 835.7418 - mean_absolute_error: 24.4075 - val_loss: 296.7708 - val_mean_absolute_error: 15.8100\n",
            "Epoch 53/100\n",
            "7/7 [==============================] - 0s 8ms/step - loss: 811.6669 - mean_absolute_error: 24.0933 - val_loss: 335.0483 - val_mean_absolute_error: 17.0113\n",
            "Epoch 54/100\n",
            "7/7 [==============================] - 0s 7ms/step - loss: 797.8264 - mean_absolute_error: 24.0469 - val_loss: 145.6390 - val_mean_absolute_error: 10.3159\n",
            "Epoch 55/100\n",
            "7/7 [==============================] - 0s 7ms/step - loss: 808.3921 - mean_absolute_error: 24.0281 - val_loss: 284.5093 - val_mean_absolute_error: 15.5287\n",
            "Epoch 56/100\n",
            "7/7 [==============================] - 0s 7ms/step - loss: 719.0889 - mean_absolute_error: 22.5703 - val_loss: 158.6737 - val_mean_absolute_error: 10.9843\n",
            "Epoch 57/100\n",
            "7/7 [==============================] - 0s 7ms/step - loss: 734.4099 - mean_absolute_error: 22.9627 - val_loss: 136.0198 - val_mean_absolute_error: 9.9640\n",
            "Epoch 58/100\n",
            "7/7 [==============================] - 0s 8ms/step - loss: 692.6174 - mean_absolute_error: 22.1899 - val_loss: 197.4598 - val_mean_absolute_error: 12.6024\n",
            "Epoch 59/100\n",
            "7/7 [==============================] - 0s 7ms/step - loss: 643.5370 - mean_absolute_error: 21.3330 - val_loss: 268.8390 - val_mean_absolute_error: 15.0981\n",
            "Epoch 60/100\n",
            "7/7 [==============================] - 0s 7ms/step - loss: 587.6080 - mean_absolute_error: 20.3362 - val_loss: 208.2948 - val_mean_absolute_error: 13.0377\n",
            "Epoch 61/100\n",
            "7/7 [==============================] - 0s 7ms/step - loss: 546.1454 - mean_absolute_error: 19.5439 - val_loss: 221.4637 - val_mean_absolute_error: 13.5430\n",
            "Epoch 62/100\n",
            "7/7 [==============================] - 0s 7ms/step - loss: 493.2753 - mean_absolute_error: 18.5097 - val_loss: 105.6918 - val_mean_absolute_error: 8.6729\n",
            "Epoch 63/100\n",
            "7/7 [==============================] - 0s 7ms/step - loss: 441.3108 - mean_absolute_error: 17.4390 - val_loss: 190.0715 - val_mean_absolute_error: 12.4470\n",
            "Epoch 64/100\n",
            "7/7 [==============================] - 0s 7ms/step - loss: 384.6719 - mean_absolute_error: 16.1473 - val_loss: 209.1467 - val_mean_absolute_error: 13.2314\n",
            "Epoch 65/100\n",
            "7/7 [==============================] - 0s 7ms/step - loss: 387.7430 - mean_absolute_error: 16.2260 - val_loss: 59.5365 - val_mean_absolute_error: 6.1629\n",
            "Epoch 66/100\n",
            "7/7 [==============================] - 0s 7ms/step - loss: 337.4138 - mean_absolute_error: 15.1334 - val_loss: 62.4517 - val_mean_absolute_error: 6.3664\n",
            "Epoch 67/100\n",
            "7/7 [==============================] - 0s 7ms/step - loss: 265.7183 - mean_absolute_error: 13.0614 - val_loss: 60.7407 - val_mean_absolute_error: 6.2874\n",
            "Epoch 68/100\n",
            "7/7 [==============================] - 0s 7ms/step - loss: 232.0792 - mean_absolute_error: 12.2118 - val_loss: 40.6230 - val_mean_absolute_error: 5.2750\n",
            "Epoch 69/100\n",
            "7/7 [==============================] - 0s 7ms/step - loss: 213.4079 - mean_absolute_error: 11.9417 - val_loss: 44.7130 - val_mean_absolute_error: 5.4405\n",
            "Epoch 70/100\n",
            "7/7 [==============================] - 0s 10ms/step - loss: 177.7354 - mean_absolute_error: 10.5420 - val_loss: 31.9402 - val_mean_absolute_error: 4.9180\n",
            "Epoch 71/100\n",
            "7/7 [==============================] - 0s 8ms/step - loss: 168.5029 - mean_absolute_error: 10.5009 - val_loss: 33.1795 - val_mean_absolute_error: 5.0202\n",
            "Epoch 72/100\n",
            "7/7 [==============================] - 0s 7ms/step - loss: 134.9845 - mean_absolute_error: 9.1169 - val_loss: 30.5976 - val_mean_absolute_error: 4.8802\n",
            "Epoch 73/100\n",
            "7/7 [==============================] - 0s 7ms/step - loss: 122.7266 - mean_absolute_error: 8.9223 - val_loss: 30.2977 - val_mean_absolute_error: 4.8754\n",
            "Epoch 74/100\n",
            "7/7 [==============================] - 0s 7ms/step - loss: 114.4336 - mean_absolute_error: 8.4908 - val_loss: 31.2939 - val_mean_absolute_error: 4.8215\n",
            "Epoch 75/100\n",
            "7/7 [==============================] - 0s 7ms/step - loss: 88.7299 - mean_absolute_error: 7.5022 - val_loss: 37.4429 - val_mean_absolute_error: 5.2620\n",
            "Epoch 76/100\n",
            "7/7 [==============================] - 0s 7ms/step - loss: 72.0721 - mean_absolute_error: 6.5215 - val_loss: 30.3240 - val_mean_absolute_error: 4.8729\n",
            "Epoch 77/100\n",
            "7/7 [==============================] - 0s 7ms/step - loss: 62.8048 - mean_absolute_error: 6.0773 - val_loss: 29.9677 - val_mean_absolute_error: 4.8307\n",
            "Epoch 78/100\n",
            "7/7 [==============================] - 0s 7ms/step - loss: 54.3165 - mean_absolute_error: 5.7242 - val_loss: 30.5933 - val_mean_absolute_error: 4.8639\n",
            "Epoch 79/100\n",
            "7/7 [==============================] - 0s 7ms/step - loss: 49.9228 - mean_absolute_error: 5.2797 - val_loss: 30.6181 - val_mean_absolute_error: 4.8482\n",
            "Epoch 80/100\n",
            "7/7 [==============================] - 0s 7ms/step - loss: 44.1745 - mean_absolute_error: 5.1703 - val_loss: 32.6545 - val_mean_absolute_error: 4.9585\n",
            "Epoch 81/100\n",
            "7/7 [==============================] - 0s 7ms/step - loss: 48.9553 - mean_absolute_error: 5.5028 - val_loss: 30.5494 - val_mean_absolute_error: 4.8050\n",
            "Epoch 82/100\n",
            "7/7 [==============================] - 0s 7ms/step - loss: 39.3402 - mean_absolute_error: 4.9172 - val_loss: 30.5981 - val_mean_absolute_error: 4.8061\n",
            "Epoch 83/100\n",
            "7/7 [==============================] - 0s 7ms/step - loss: 38.4215 - mean_absolute_error: 4.8344 - val_loss: 31.0871 - val_mean_absolute_error: 4.8175\n",
            "Epoch 84/100\n",
            "7/7 [==============================] - 0s 7ms/step - loss: 33.6392 - mean_absolute_error: 4.4142 - val_loss: 34.9623 - val_mean_absolute_error: 4.8759\n",
            "Epoch 85/100\n",
            "7/7 [==============================] - 0s 7ms/step - loss: 31.5553 - mean_absolute_error: 4.2836 - val_loss: 42.7844 - val_mean_absolute_error: 5.1427\n",
            "Epoch 86/100\n",
            "7/7 [==============================] - 0s 7ms/step - loss: 30.1009 - mean_absolute_error: 4.2420 - val_loss: 39.9361 - val_mean_absolute_error: 5.0186\n",
            "Epoch 87/100\n",
            "7/7 [==============================] - 0s 9ms/step - loss: 32.4071 - mean_absolute_error: 4.5229 - val_loss: 31.7442 - val_mean_absolute_error: 4.8178\n",
            "Epoch 88/100\n",
            "7/7 [==============================] - 0s 7ms/step - loss: 40.6374 - mean_absolute_error: 5.2303 - val_loss: 34.6237 - val_mean_absolute_error: 5.0634\n",
            "Epoch 89/100\n",
            "7/7 [==============================] - 0s 8ms/step - loss: 37.3583 - mean_absolute_error: 5.1334 - val_loss: 36.8394 - val_mean_absolute_error: 5.2561\n",
            "Epoch 90/100\n",
            "7/7 [==============================] - 0s 7ms/step - loss: 42.0186 - mean_absolute_error: 5.4844 - val_loss: 33.9177 - val_mean_absolute_error: 5.0020\n",
            "Epoch 91/100\n",
            "7/7 [==============================] - 0s 7ms/step - loss: 32.5800 - mean_absolute_error: 4.5554 - val_loss: 31.8819 - val_mean_absolute_error: 4.8127\n",
            "Epoch 92/100\n",
            "7/7 [==============================] - 0s 7ms/step - loss: 29.5084 - mean_absolute_error: 4.3120 - val_loss: 32.0794 - val_mean_absolute_error: 4.8140\n",
            "Epoch 93/100\n",
            "7/7 [==============================] - 0s 7ms/step - loss: 27.9770 - mean_absolute_error: 4.1687 - val_loss: 33.1931 - val_mean_absolute_error: 4.8395\n",
            "Epoch 94/100\n",
            "7/7 [==============================] - 0s 7ms/step - loss: 25.6532 - mean_absolute_error: 4.0523 - val_loss: 32.7428 - val_mean_absolute_error: 4.8266\n",
            "Epoch 95/100\n",
            "7/7 [==============================] - 0s 7ms/step - loss: 25.3072 - mean_absolute_error: 4.0882 - val_loss: 38.4066 - val_mean_absolute_error: 4.9419\n",
            "Epoch 96/100\n",
            "7/7 [==============================] - 0s 7ms/step - loss: 22.1935 - mean_absolute_error: 3.6872 - val_loss: 55.5197 - val_mean_absolute_error: 5.8544\n",
            "Epoch 97/100\n",
            "7/7 [==============================] - 0s 7ms/step - loss: 23.1813 - mean_absolute_error: 3.8066 - val_loss: 56.3350 - val_mean_absolute_error: 5.8962\n",
            "Epoch 98/100\n",
            "7/7 [==============================] - 0s 7ms/step - loss: 22.5032 - mean_absolute_error: 3.8156 - val_loss: 53.3551 - val_mean_absolute_error: 5.7624\n",
            "Epoch 99/100\n",
            "7/7 [==============================] - 0s 7ms/step - loss: 21.7240 - mean_absolute_error: 3.6844 - val_loss: 55.3379 - val_mean_absolute_error: 5.8538\n",
            "Epoch 100/100\n",
            "7/7 [==============================] - 0s 7ms/step - loss: 22.6724 - mean_absolute_error: 3.8727 - val_loss: 41.1168 - val_mean_absolute_error: 5.0855\n"
          ]
        },
        {
          "output_type": "execute_result",
          "data": {
            "text/plain": [
              "<keras.callbacks.History at 0x7f7decb41940>"
            ]
          },
          "metadata": {},
          "execution_count": 25
        }
      ]
    },
    {
      "cell_type": "code",
      "source": [],
      "metadata": {
        "id": "-DRz6IO7XKTM"
      },
      "execution_count": null,
      "outputs": []
    },
    {
      "cell_type": "code",
      "source": [
        "train_predictions = model.predict(X_train).flatten()\n",
        "\n",
        "plt.plot(dates_train, train_predictions)\n",
        "plt.plot(dates_train, y_train)\n",
        "plt.legend(['Training Predictions', 'Training Observations'])"
      ],
      "metadata": {
        "colab": {
          "base_uri": "https://localhost:8080/",
          "height": 300
        },
        "outputId": "d2084b4e-d769-4ba3-b3dd-e84a23ef4c4d",
        "id": "PSdyBbZ0XPKi"
      },
      "execution_count": 26,
      "outputs": [
        {
          "output_type": "stream",
          "name": "stdout",
          "text": [
            "7/7 [==============================] - 0s 2ms/step\n"
          ]
        },
        {
          "output_type": "execute_result",
          "data": {
            "text/plain": [
              "<matplotlib.legend.Legend at 0x7f7de8c235b0>"
            ]
          },
          "metadata": {},
          "execution_count": 26
        },
        {
          "output_type": "display_data",
          "data": {
            "text/plain": [
              "<Figure size 432x288 with 1 Axes>"
            ],
            "image/png": "[encoded data removed]"
          },
          "metadata": {
            "needs_background": "light"
          }
        }
      ]
    },
    {
      "cell_type": "code",
      "source": [],
      "metadata": {
        "id": "TwuRrvy5XTAI"
      },
      "execution_count": null,
      "outputs": []
    },
    {
      "cell_type": "code",
      "source": [
        "val_predictions = model.predict(X_val).flatten()\n",
        "\n",
        "plt.plot(dates_val, val_predictions)\n",
        "plt.plot(dates_val, y_val)\n",
        "plt.legend(['Validation Predictions', 'Validation Observations'])"
      ],
      "metadata": {
        "colab": {
          "base_uri": "https://localhost:8080/",
          "height": 300
        },
        "outputId": "f09a2837-f069-415c-8c56-0c619eb5f3a6",
        "id": "EOV3bJtTXWhd"
      },
      "execution_count": 27,
      "outputs": [
        {
          "output_type": "stream",
          "name": "stdout",
          "text": [
            "1/1 [==============================] - 0s 20ms/step\n"
          ]
        },
        {
          "output_type": "execute_result",
          "data": {
            "text/plain": [
              "<matplotlib.legend.Legend at 0x7f7de8bf38e0>"
            ]
          },
          "metadata": {},
          "execution_count": 27
        },
        {
          "output_type": "display_data",
          "data": {
            "text/plain": [
              "<Figure size 432x288 with 1 Axes>"
            ],
            "image/png": "[encoded data removed]"
          },
          "metadata": {
            "needs_background": "light"
          }
        }
      ]
    },
    {
      "cell_type": "code",
      "source": [],
      "metadata": {
        "id": "hmYGJMVWXZmu"
      },
      "execution_count": null,
      "outputs": []
    },
    {
      "cell_type": "code",
      "source": [
        "test_predictions = model.predict(X_test).flatten()\n",
        "\n",
        "plt.plot(dates_test, test_predictions)\n",
        "plt.plot(dates_test, y_test)\n",
        "plt.legend(['Testing Predictions', 'Testing Observations'])"
      ],
      "metadata": {
        "colab": {
          "base_uri": "https://localhost:8080/",
          "height": 300
        },
        "outputId": "a5a2d43f-df2e-4861-b305-c1f15c626abc",
        "id": "xAFA9RnLXctD"
      },
      "execution_count": 28,
      "outputs": [
        {
          "output_type": "stream",
          "name": "stdout",
          "text": [
            "1/1 [==============================] - 0s 17ms/step\n"
          ]
        },
        {
          "output_type": "execute_result",
          "data": {
            "text/plain": [
              "<matplotlib.legend.Legend at 0x7f7de8b79820>"
            ]
          },
          "metadata": {},
          "execution_count": 28
        },
        {
          "output_type": "display_data",
          "data": {
            "text/plain": [
              "<Figure size 432x288 with 1 Axes>"
            ],
            "image/png": "[encoded data removed]"
          },
          "metadata": {
            "needs_background": "light"
          }
        }
      ]
    },
    {
      "cell_type": "code",
      "source": [],
      "metadata": {
        "id": "SG8FXssYXe15"
      },
      "execution_count": null,
      "outputs": []
    },
    {
      "cell_type": "code",
      "source": [
        "plt.plot(dates_train, train_predictions)\n",
        "plt.plot(dates_train, y_train)\n",
        "plt.plot(dates_val, val_predictions)\n",
        "plt.plot(dates_val, y_val)\n",
        "plt.plot(dates_test, test_predictions)\n",
        "plt.plot(dates_test, y_test)\n",
        "plt.legend(['Training Predictions', \n",
        "            'Training Observations',\n",
        "            'Validation Predictions', \n",
        "            'Validation Observations',\n",
        "            'Testing Predictions', \n",
        "            'Testing Observations'])"
      ],
      "metadata": {
        "colab": {
          "base_uri": "https://localhost:8080/",
          "height": 283
        },
        "outputId": "169e03e9-020b-4062-fc23-6d1bc37792a3",
        "id": "q64-iAUGXit0"
      },
      "execution_count": null,
      "outputs": [
        {
          "output_type": "execute_result",
          "data": {
            "text/plain": [
              "<matplotlib.legend.Legend at 0x7feee24e7610>"
            ]
          },
          "metadata": {},
          "execution_count": 31
        },
        {
          "output_type": "display_data",
          "data": {
            "text/plain": [
              "<Figure size 432x288 with 1 Axes>"
            ],
            "image/png": "[encoded data removed]"
          },
          "metadata": {
            "needs_background": "light"
          }
        }
      ]
    },
    {
      "cell_type": "code",
      "source": [
        "plt.plot(dates_train, train_predictions)\n",
        "plt.plot(dates_train, y_train)\n",
        "plt.plot(dates_val, val_predictions)\n",
        "plt.plot(dates_val, y_val)\n",
        "plt.plot(dates_test, test_predictions)\n",
        "plt.plot(dates_test, y_test)\n",
        "plt.legend(['Training Predictions', \n",
        "            'Training Observations',\n",
        "            'Validation Predictions', \n",
        "            'Validation Observations',\n",
        "            'Testing Predictions', \n",
        "            'Testing Observations'])"
      ],
      "metadata": {
        "colab": {
          "base_uri": "https://localhost:8080/",
          "height": 282
        },
        "outputId": "4148428f-e324-4ee4-9497-2108b97429ab",
        "id": "5FLn8B02Xi2P"
      },
      "execution_count": 29,
      "outputs": [
        {
          "output_type": "execute_result",
          "data": {
            "text/plain": [
              "<matplotlib.legend.Legend at 0x7f7de8be60a0>"
            ]
          },
          "metadata": {},
          "execution_count": 29
        },
        {
          "output_type": "display_data",
          "data": {
            "text/plain": [
              "<Figure size 432x288 with 1 Axes>"
            ],
            "image/png": "[encoded data removed]"
          },
          "metadata": {
            "needs_background": "light"
          }
        }
      ]
    },
    {
      "cell_type": "code",
      "source": [
        "from copy import deepcopy\n",
        "\n",
        "recursive_predictions = []\n",
        "recursive_dates = np.concatenate([dates_val, dates_test])\n",
        "\n",
        "for target_date in recursive_dates:\n",
        "  last_window = deepcopy(X_train[-1])\n",
        "  next_prediction = model.predict(np.array([last_window])).flatten()\n",
        "  recursive_predictions.append(next_prediction)\n",
        "  last_window[-1] = next_prediction"
      ],
      "metadata": {
        "id": "qb0ryudqWwkf",
        "colab": {
          "base_uri": "https://localhost:8080/"
        },
        "outputId": "41589d35-5633-480d-a129-5ebb8f3d97e5"
      },
      "execution_count": 30,
      "outputs": [
        {
          "output_type": "stream",
          "name": "stdout",
          "text": [
            "1/1 [==============================] - 0s 17ms/step\n",
            "1/1 [==============================] - 0s 16ms/step\n",
            "1/1 [==============================] - 0s 16ms/step\n",
            "1/1 [==============================] - 0s 17ms/step\n",
            "1/1 [==============================] - 0s 19ms/step\n",
            "1/1 [==============================] - 0s 18ms/step\n",
            "1/1 [==============================] - 0s 17ms/step\n",
            "1/1 [==============================] - 0s 17ms/step\n",
            "1/1 [==============================] - 0s 16ms/step\n",
            "1/1 [==============================] - 0s 17ms/step\n",
            "1/1 [==============================] - 0s 17ms/step\n",
            "1/1 [==============================] - 0s 17ms/step\n",
            "1/1 [==============================] - 0s 23ms/step\n",
            "1/1 [==============================] - 0s 17ms/step\n",
            "1/1 [==============================] - 0s 18ms/step\n",
            "1/1 [==============================] - 0s 16ms/step\n",
            "1/1 [==============================] - 0s 19ms/step\n",
            "1/1 [==============================] - 0s 19ms/step\n",
            "1/1 [==============================] - 0s 16ms/step\n",
            "1/1 [==============================] - 0s 17ms/step\n",
            "1/1 [==============================] - 0s 16ms/step\n",
            "1/1 [==============================] - 0s 16ms/step\n",
            "1/1 [==============================] - 0s 17ms/step\n",
            "1/1 [==============================] - 0s 19ms/step\n",
            "1/1 [==============================] - 0s 21ms/step\n",
            "1/1 [==============================] - 0s 17ms/step\n",
            "1/1 [==============================] - 0s 16ms/step\n",
            "1/1 [==============================] - 0s 18ms/step\n",
            "1/1 [==============================] - 0s 21ms/step\n",
            "1/1 [==============================] - 0s 19ms/step\n",
            "1/1 [==============================] - 0s 19ms/step\n",
            "1/1 [==============================] - 0s 16ms/step\n",
            "1/1 [==============================] - 0s 19ms/step\n",
            "1/1 [==============================] - 0s 17ms/step\n",
            "1/1 [==============================] - 0s 18ms/step\n",
            "1/1 [==============================] - 0s 17ms/step\n",
            "1/1 [==============================] - 0s 17ms/step\n",
            "1/1 [==============================] - 0s 17ms/step\n",
            "1/1 [==============================] - 0s 17ms/step\n",
            "1/1 [==============================] - 0s 17ms/step\n",
            "1/1 [==============================] - 0s 17ms/step\n",
            "1/1 [==============================] - 0s 16ms/step\n",
            "1/1 [==============================] - 0s 17ms/step\n",
            "1/1 [==============================] - 0s 19ms/step\n",
            "1/1 [==============================] - 0s 19ms/step\n",
            "1/1 [==============================] - 0s 19ms/step\n",
            "1/1 [==============================] - 0s 19ms/step\n",
            "1/1 [==============================] - 0s 17ms/step\n",
            "1/1 [==============================] - 0s 17ms/step\n",
            "1/1 [==============================] - 0s 21ms/step\n",
            "1/1 [==============================] - 0s 16ms/step\n"
          ]
        }
      ]
    },
    {
      "cell_type": "code",
      "source": [],
      "metadata": {
        "id": "75Rq5-hqX2pq"
      },
      "execution_count": null,
      "outputs": []
    },
    {
      "cell_type": "code",
      "source": [
        "plt.plot(dates_train, train_predictions)\n",
        "plt.plot(dates_train, y_train)\n",
        "plt.plot(dates_val, val_predictions)\n",
        "plt.plot(dates_val, y_val)\n",
        "plt.plot(dates_test, test_predictions)\n",
        "plt.plot(dates_test, y_test)\n",
        "plt.plot(recursive_dates, recursive_predictions)\n",
        "plt.legend(['Training Predictions', \n",
        "            'Training Observations',\n",
        "            'Validation Predictions', \n",
        "            'Validation Observations',\n",
        "            'Testing Predictions', \n",
        "            'Testing Observations',\n",
        "            'Recursive Predictions'])"
      ],
      "metadata": {
        "colab": {
          "base_uri": "https://localhost:8080/",
          "height": 282
        },
        "id": "6BEMkYmtbwkg",
        "outputId": "20f17347-a0b0-4d62-981c-cca3ec7a1de0"
      },
      "execution_count": 31,
      "outputs": [
        {
          "output_type": "execute_result",
          "data": {
            "text/plain": [
              "<matplotlib.legend.Legend at 0x7f7de84bfbb0>"
            ]
          },
          "metadata": {},
          "execution_count": 31
        },
        {
          "output_type": "display_data",
          "data": {
            "text/plain": [
              "<Figure size 432x288 with 1 Axes>"
            ],
            "image/png": "[encoded data removed]"
          },
          "metadata": {
            "needs_background": "light"
          }
        }
      ]
    }
  ]
}