{
  "nbformat": 4,
  "nbformat_minor": 0,
  "metadata": {
    "colab": {
      "provenance": [],
      "authorship_tag": "ABX9TyN6a8ntW4rXUoOhJGtpyAGp",
      "include_colab_link": true
    },
    "kernelspec": {
      "name": "python3",
      "display_name": "Python 3"
    },
    "language_info": {
      "name": "python"
    }
  },
  "cells": [
    {
      "cell_type": "markdown",
      "metadata": {
        "id": "view-in-github",
        "colab_type": "text"
      },
      "source": [
        "<a href=\"https://colab.research.google.com/github/amber717M/my-ML-DS-projects/blob/main/Conversational_Bot_using_NLTK.ipynb\" target=\"_parent\"><img src=\"https://colab.research.google.com/assets/colab-badge.svg\" alt=\"Open In Colab\"/></a>"
      ]
    },
    {
      "cell_type": "code",
      "execution_count": 1,
      "metadata": {
        "id": "xWhtz-bIabJ0"
      },
      "outputs": [],
      "source": [
        "# Simple chatbot- using NLTK Library.\n",
        "from nltk.chat.util import Chat, reflections\n"
      ]
    },
    {
      "cell_type": "code",
      "source": [
        "QA = [\n",
        "    [\n",
        "        r\"my name is (.*)\",\n",
        "        [\"Hello %1, Good to see you. Do you have any questions for me?\", ]\n",
        "    ],\n",
        "    [\n",
        "        r\"(what is your name ?|who are you ?)\",\n",
        "        [\"My name is Amber and I'm your friend, let's chat ?\", ]\n",
        "    ],\n",
        "    [\n",
        "        r\"how are you ?\",\n",
        "        [\"I'm doing great.What about You ?\", ]\n",
        "    ],\n",
        "    [\n",
        "        r\"(.*)have friends ?\",\n",
        "        [\"I have many friends and just made a new friend! Hi friend :)\", ]\n",
        "    ],\n",
        "    [\n",
        "        r\"i am sorry (.*)\",\n",
        "        [\"Its alright buddy\", \"Its OK, Never mind friend\", ]\n",
        "    ],\n",
        "    [\n",
        "        r\"i'm doing good\",\n",
        "        [\"Nice to hear that\", \"Alright :)\", ]\n",
        "    ],\n",
        "    [\n",
        "        r\"hi|hey|hello\",\n",
        "        [\"Hello\", \"Hey there\", ]\n",
        "    ],\n",
        "    [\n",
        "        r\"(.*) (your age|old are you) ?\",\n",
        "        [\"I'm a bot made by Amber .Still want to know my age?\", ]\n",
        "\n",
        "    ],\n",
        "    [\n",
        "        r\"what (.*) want ?\",\n",
        "        [\"I want to help you find answers !\", ]\n",
        "\n",
        "    ],\n",
        "    [\n",
        "        r\"(.*) (created you|made you) ?\",\n",
        "        [\"I am a result of Amber's exploration of NLTK Library\", ]\n",
        "    ],\n",
        "    [\n",
        "        r\"(.*) (location|city) ?\",\n",
        "        ['Bhopal,Madhya Pradesh ', ]\n",
        "    ],\n",
        "    [\n",
        "        r\"how is weather in (.*)?\",\n",
        "        [\"Weather in %1 is awesome like always\", \"Its perfect here in %1\", \"Too cold man here in %1\",\n",
        "         \"I have heard about %1 You are lucky to stay in the beautiful city of %1\",]\n",
        "    ],\n",
        "    [\n",
        "        r\"i work in (.*)?\",\n",
        "        [\"%1 is an amazing company to work for, I have heard about it.\", \"Hope you love working in %1 :)\", ]\n",
        "    ],\n",
        "    [\n",
        "        r\"(.*)raining in (.*)\",\n",
        "        [\"You never know when it can rain here in %2\", \"Damn its raining too much here in %2\"]\n",
        "    ],\n",
        "    [\n",
        "        r\"how (.*) health(.*)\",\n",
        "        [\"I'm a computer program, so I'm always healthy \", ]\n",
        "    ],\n",
        "    [\n",
        "        r\"(.*) (sports|games) ?\",\n",
        "        [\"I'm a very big fan of Cricket\", ]\n",
        "    ],\n",
        "    [\n",
        "        r\"quit\",\n",
        "        [\"Bye take care. Hope to see you soon friend :) \", \"It was nice talking to you. See you soon :)\"]\n",
        "    ],\n",
        "    [\n",
        "        r\"(.*) have all answers ?\",\n",
        "        [\"I can help you with most of your questions :) \", \"May be he can help :https://www.google.com/\"]\n",
        "    ],\n",
        "    [\n",
        "        r\"(.*) siri\",\n",
        "        [\"Hey!! do you know her as well? What a small world! \", \"She is my best friend\"]\n",
        "    ],\n",
        "    [\n",
        "        r\"(.*) (direction|maps|i am lost)\",\n",
        "        [\"I think this is best for you: https://www.google.com/maps \", \"Are you lost? Keep calm and click here:https://www.google.com/maps\"]\n",
        "    ],\n",
        "    [\n",
        "        r\"(.*) (weather|weather forecast)\",\n",
        "        [\"You can check here: https://www.accuweather.com/en/in/india-weather Have a Good Day!!\"]\n",
        "    ],\n",
        "    [\n",
        "        r\"what (.*) like ?\",\n",
        "        [\"There's only one thing i like. Chatting!!!!!!\"]\n",
        "    ],\n",
        "]\n",
        "\n",
        "\n",
        "def rouge():\n",
        "    print(\"Hi, I'm Amber. Wanna chat? :) \\nPlease type lowercase English language to start a conversation. Type quit to leave \")\n",
        "\n",
        "\n",
        "chat = Chat(QA, reflections)\n",
        "if __name__ == \"__main__\":\n",
        "    rouge()\n",
        "chat.converse()"
      ],
      "metadata": {
        "colab": {
          "base_uri": "https://localhost:8080/"
        },
        "id": "0Aqm165vasTr",
        "outputId": "3a50e358-8553-4d8a-b866-e2921e7d2ddd"
      },
      "execution_count": null,
      "outputs": [
        {
          "output_type": "stream",
          "name": "stdout",
          "text": [
            "Hi, I'm Amber. Wanna chat? :) \n",
            "Please type lowercase English language to start a conversation. Type quit to leave \n",
            ">haha\n",
            "None\n",
            ">where are you\n",
            "None\n",
            ">address\n",
            "None\n",
            ">location\n",
            "None\n",
            ">what is your location\n",
            "Bhopal,Madhya Pradesh \n",
            ">how old are you\n",
            "I'm a bot made by Amber .Still want to know my age?\n"
          ]
        }
      ]
    }
  ]
}