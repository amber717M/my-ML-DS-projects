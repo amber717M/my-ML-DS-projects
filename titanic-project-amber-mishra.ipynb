{
 "cells": [
  {
   "cell_type": "code",
   "execution_count": 1,
   "id": "ab32f132",
   "metadata": {
    "_cell_guid": "b1076dfc-b9ad-4769-8c92-a6c4dae69d19",
    "_uuid": "8f2839f25d086af736a60e9eeb907d3b93b6e0e5",
    "execution": {
     "iopub.execute_input": "2022-06-29T14:10:41.638174Z",
     "iopub.status.busy": "2022-06-29T14:10:41.637657Z",
     "iopub.status.idle": "2022-06-29T14:10:41.654166Z",
     "shell.execute_reply": "2022-06-29T14:10:41.653004Z"
    },
    "papermill": {
     "duration": 0.024366,
     "end_time": "2022-06-29T14:10:41.656982",
     "exception": false,
     "start_time": "2022-06-29T14:10:41.632616",
     "status": "completed"
    },
    "tags": []
   },
   "outputs": [
    {
     "name": "stdout",
     "output_type": "stream",
     "text": [
      "/kaggle/input/titanic/train.csv\n",
      "/kaggle/input/titanic/test.csv\n",
      "/kaggle/input/titanic/gender_submission.csv\n"
     ]
    }
   ],
   "source": [
    "# This Python 3 environment comes with many helpful analytics libraries installed\n",
    "# It is defined by the kaggle/python Docker image: https://github.com/kaggle/docker-python\n",
    "# For example, here's several helpful packages to load\n",
    "\n",
    "import numpy as np # linear algebra\n",
    "import pandas as pd # data processing, CSV file I/O (e.g. pd.read_csv)\n",
    "\n",
    "# Input data files are available in the read-only \"../input/\" directory\n",
    "# For example, running this (by clicking run or pressing Shift+Enter) will list all files under the input directory\n",
    "\n",
    "import os\n",
    "for dirname, _, filenames in os.walk('/kaggle/input'):\n",
    "    for filename in filenames:\n",
    "        print(os.path.join(dirname, filename))\n",
    "\n",
    "# You can write up to 20GB to the current directory (/kaggle/working/) that gets preserved as output when you create a version using \"Save & Run All\" \n",
    "# You can also write temporary files to /kaggle/temp/, but they won't be saved outside of the current session"
   ]
  },
  {
   "cell_type": "code",
   "execution_count": 2,
   "id": "bd7f82c4",
   "metadata": {
    "execution": {
     "iopub.execute_input": "2022-06-29T14:10:41.663646Z",
     "iopub.status.busy": "2022-06-29T14:10:41.662593Z",
     "iopub.status.idle": "2022-06-29T14:10:41.695762Z",
     "shell.execute_reply": "2022-06-29T14:10:41.694591Z"
    },
    "papermill": {
     "duration": 0.038894,
     "end_time": "2022-06-29T14:10:41.698280",
     "exception": false,
     "start_time": "2022-06-29T14:10:41.659386",
     "status": "completed"
    },
    "tags": []
   },
   "outputs": [],
   "source": [
    "train_data = pd.read_csv('/kaggle/input/titanic/train.csv')\n",
    "train_data.head()\n",
    "test_data = pd.read_csv('/kaggle/input/titanic/test.csv')"
   ]
  },
  {
   "cell_type": "code",
   "execution_count": 3,
   "id": "301f70c1",
   "metadata": {
    "execution": {
     "iopub.execute_input": "2022-06-29T14:10:41.704373Z",
     "iopub.status.busy": "2022-06-29T14:10:41.704018Z",
     "iopub.status.idle": "2022-06-29T14:10:43.298191Z",
     "shell.execute_reply": "2022-06-29T14:10:43.296879Z"
    },
    "papermill": {
     "duration": 1.600371,
     "end_time": "2022-06-29T14:10:43.300915",
     "exception": false,
     "start_time": "2022-06-29T14:10:41.700544",
     "status": "completed"
    },
    "tags": []
   },
   "outputs": [
    {
     "name": "stdout",
     "output_type": "stream",
     "text": [
      "Your submission was successfully saved!\n"
     ]
    }
   ],
   "source": [
    "from sklearn.ensemble import RandomForestClassifier\n",
    "\n",
    "y = train_data[\"Survived\"]\n",
    "\n",
    "features = [\"Pclass\", \"Sex\", \"SibSp\", \"Parch\"]\n",
    "X = pd.get_dummies(train_data[features])\n",
    "X_test = pd.get_dummies(test_data[features])\n",
    "\n",
    "model = RandomForestClassifier(n_estimators=100, max_depth=5, random_state=1)\n",
    "model.fit(X, y)\n",
    "predictions = model.predict(X_test)\n",
    "\n",
    "output = pd.DataFrame({'PassengerId': test_data.PassengerId, 'Survived': predictions})\n",
    "output.to_csv('my_submission.csv', index=False)\n",
    "print(\"Your submission was successfully saved!\") "
   ]
  },
  {
   "cell_type": "code",
   "execution_count": null,
   "id": "55a1aaef",
   "metadata": {
    "papermill": {
     "duration": 0.001998,
     "end_time": "2022-06-29T14:10:43.305350",
     "exception": false,
     "start_time": "2022-06-29T14:10:43.303352",
     "status": "completed"
    },
    "tags": []
   },
   "outputs": [],
   "source": []
  }
 ],
 "metadata": {
  "kernelspec": {
   "display_name": "Python 3",
   "language": "python",
   "name": "python3"
  },
  "language_info": {
   "codemirror_mode": {
    "name": "ipython",
    "version": 3
   },
   "file_extension": ".py",
   "mimetype": "text/x-python",
   "name": "python",
   "nbconvert_exporter": "python",
   "pygments_lexer": "ipython3",
   "version": "3.7.12"
  },
  "papermill": {
   "default_parameters": {},
   "duration": 12.326245,
   "end_time": "2022-06-29T14:10:44.028387",
   "environment_variables": {},
   "exception": null,
   "input_path": "__notebook__.ipynb",
   "output_path": "__notebook__.ipynb",
   "parameters": {},
   "start_time": "2022-06-29T14:10:31.702142",
   "version": "2.3.4"
  }
 },
 "nbformat": 4,
 "nbformat_minor": 5
}
